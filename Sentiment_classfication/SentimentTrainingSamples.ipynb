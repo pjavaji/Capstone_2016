{
 "cells": [
  {
   "cell_type": "code",
   "execution_count": null,
   "metadata": {
    "collapsed": true
   },
   "outputs": [],
   "source": [
    "#Use hashtags and simple regex to find training samples"
   ]
  },
  {
   "cell_type": "code",
   "execution_count": null,
   "metadata": {
    "collapsed": true
   },
   "outputs": [],
   "source": [
    "candidates = ['Trump','Clinton','Sanders','Cruz','Rubio']\n"
   ]
  },
  {
   "cell_type": "code",
   "execution_count": null,
   "metadata": {
    "collapsed": true
   },
   "outputs": [],
   "source": [
    "# positive example:\n",
    "# Match (t:Tweet_2016_3_1)<-[:POSTS]-(u:UserSupportsSanders_2016_3_1)\n",
    "# where exists(t.mentions_Sanders) and not exists(t.mentions_Clinton)\n",
    "# and not exists(t.mentions_Rubio) and not exists(t.mentions_Trump)\n",
    "# and not exists(t.mentions_Cruz) \n",
    "# return t limit 25\n",
    "\n",
    "# negative example:\n",
    "# Match (t:Tweet_2016_3_1)<-[:POSTS]-(u:UserSupportsTrump_2016_3_1)\n",
    "# where exists(t.mentions_Sanders) and not exists(t.mentions_Clinton)\n",
    "# and not exists(t.mentions_Rubio) and not exists(t.mentions_Trump)\n",
    "# and not exists(t.mentions_Cruz)\n",
    "# return t limit 25\n",
    "\n",
    "pos_queries = {}\n",
    "neg_queries = {}\n",
    "opponents = {}\n",
    "\n",
    "pos_queries['Sanders'] = \"\"\"Match (t:Tweet_{0})<-[:POSTS]-(u:UserSupportsSanders_{0})\n",
    "where exists(t.mentions_Sanders) and not exists(t.mentions_Clinton)\n",
    "and not exists(t.mentions_Rubio) and not exists(t.mentions_Trump)\n",
    "and not exists(t.mentions_Cruz) \n",
    "return t.text limit 100\n",
    "\"\"\"\n",
    "\n",
    "neg_queries['Sanders'] = \"\"\"Match (t:Tweet_{0})<-[:POSTS]-(u:UserSupports{1}_{0})\n",
    "where exists(t.mentions_Sanders) and not exists(t.mentions_Clinton)\n",
    "and not exists(t.mentions_Rubio) and not exists(t.mentions_Trump)\n",
    "and not exists(t.mentions_Cruz)\n",
    "return t.text limit 25\n",
    "\"\"\"\n",
    "\n",
    "pos_queries['Clinton'] = \"\"\"Match (t:Tweet_{0})<-[:POSTS]-(u:UserSupportsClinton_{0})\n",
    "where exists(t.mentions_Clinton) and not exists(t.mentions_Sanders)\n",
    "and not exists(t.mentions_Rubio) and not exists(t.mentions_Trump)\n",
    "and not exists(t.mentions_Cruz) \n",
    "return t.text limit 100\n",
    "\"\"\"\n",
    "\n",
    "neg_queries['Clinton'] = \"\"\"Match (t:Tweet_{0})<-[:POSTS]-(u:UserSupports{1}_{0})\n",
    "where exists(t.mentions_Clinton) and not exists(t.mentions_Sanders)\n",
    "and not exists(t.mentions_Rubio) and not exists(t.mentions_Trump)\n",
    "and not exists(t.mentions_Cruz)\n",
    "return t.text limit 25\n",
    "\"\"\"\n",
    "\n",
    "pos_queries['Trump'] = \"\"\"Match (t:Tweet_{0})<-[:POSTS]-(u:UserSupportsTrump_{0})\n",
    "where exists(t.mentions_Trump) and not exists(t.mentions_Sanders)\n",
    "and not exists(t.mentions_Rubio) and not exists(t.mentions_Clinton)\n",
    "and not exists(t.mentions_Cruz) \n",
    "return t.text limit 100\n",
    "\"\"\"\n",
    "\n",
    "neg_queries['Trump'] = \"\"\"Match (t:Tweet_{0})<-[:POSTS]-(u:UserSupports{1}_{0})\n",
    "where exists(t.mentions_Trump) and not exists(t.mentions_Sanders)\n",
    "and not exists(t.mentions_Rubio) and not exists(t.mentions_Clinton)\n",
    "and not exists(t.mentions_Cruz)\n",
    "return t.text limit 25\n",
    "\"\"\"\n",
    "\n",
    "pos_queries['Rubio'] = \"\"\"Match (t:Tweet_{0})<-[:POSTS]-(u:UserSupportsRubio_{0})\n",
    "where exists(t.mentions_Rubio) and not exists(t.mentions_Sanders)\n",
    "and not exists(t.mentions_Trump) and not exists(t.mentions_Clinton)\n",
    "and not exists(t.mentions_Cruz) \n",
    "return t.text limit 100\n",
    "\"\"\"\n",
    "\n",
    "neg_queries['Rubio'] = \"\"\"Match (t:Tweet_{0})<-[:POSTS]-(u:UserSupports{1}_{0})\n",
    "where exists(t.mentions_Rubio) and not exists(t.mentions_Sanders)\n",
    "and not exists(t.mentions_Trump) and not exists(t.mentions_Clinton)\n",
    "and not exists(t.mentions_Cruz)\n",
    "return t.text limit 25\n",
    "\"\"\"\n",
    "\n",
    "pos_queries['Cruz'] = \"\"\"Match (t:Tweet_{0})<-[:POSTS]-(u:UserSupportsCruz_{0})\n",
    "where exists(t.mentions_Cruz) and not exists(t.mentions_Sanders)\n",
    "and not exists(t.mentions_Trump) and not exists(t.mentions_Clinton)\n",
    "and not exists(t.mentions_Rubio) \n",
    "return t.text limit 100\n",
    "\"\"\"\n",
    "\n",
    "neg_queries['Cruz'] = \"\"\"Match (t:Tweet_{0})<-[:POSTS]-(u:UserSupports{1}_{0})\n",
    "where exists(t.mentions_Cruz) and not exists(t.mentions_Sanders)\n",
    "and not exists(t.mentions_Trump) and not exists(t.mentions_Clinton)\n",
    "and not exists(t.mentions_Rubio)\n",
    "return t.text limit 25\n",
    "\"\"\"\n",
    "\n",
    "opponents['Sanders'] = ['Clinton','Trump','Cruz','Rubio']\n",
    "opponents['Clinton'] = ['Sanders','Trump','Cruz','Rubio']\n",
    "opponents['Trump'] = ['Clinton','Sanders','Cruz','Rubio']\n",
    "opponents['Rubio'] = ['Clinton','Sanders','Cruz','Trump']\n",
    "opponents['Cruz'] = ['Clinton','Sanders','Trump','Rubio']\n"
   ]
  },
  {
   "cell_type": "code",
   "execution_count": null,
   "metadata": {
    "collapsed": true
   },
   "outputs": [],
   "source": [
    "partitions = ['2015_10_11', '2015_10_12', '2015_10_13', '2015_10_14', '2015_10_15',\\\n",
    "              '2016_1_26', '2016_1_27', '2016_1_28', '2016_1_29', '2016_1_30', '2016_2_3', \\\n",
    "              '2016_2_4', '2016_2_5', '2016_2_6', '2016_2_7', '2016_2_8', '2016_2_9', '2016_2_10',\\\n",
    "              '2016_2_11', '2016_2_12', '2016_2_13', '2016_2_14', '2016_2_15', \\\n",
    "              '2016_2_23', '2016_2_24', '2016_2_25', '2016_2_26', '2016_3_1', '2016_3_2',\\\n",
    "             '2016_3_3', '2016_3_4', '2016_3_5', '2016_3_6', '2016_3_7', '2016_3_8', '2016_3_9',\\\n",
    "             '2016_3_10', '2016_3_11']\n",
    "\n",
    "# partitions = ['2016_2_24', '2016_2_25', '2016_2_26', '2016_3_1', '2016_3_2',\\\n",
    "#              '2016_3_3', '2016_3_4', '2016_3_5', '2016_3_6', '2016_3_7', '2016_3_8', '2016_3_9',\\\n",
    "#              '2016_3_10', '2016_3_11']\n",
    "\n"
   ]
  },
  {
   "cell_type": "code",
   "execution_count": null,
   "metadata": {
    "collapsed": false
   },
   "outputs": [],
   "source": [
    "from neo4j.v1 import GraphDatabase, basic_auth\n",
    "import time\n",
    "import csv\n",
    "\n",
    "#driver = GraphDatabase.driver(\"bolt://sauce5.sdsc.edu\", auth=basic_auth(\"neo4j\", \"lajolla\"))\n",
    "print 'opening driver...'\n",
    "driver = GraphDatabase.driver(\"bolt://sauce5.sdsc.edu\", auth=basic_auth(\"neo4j\", \"lajolla\"))\n",
    "#driver = GraphDatabase.driver(\"bolt://127.0.0.1\")\n",
    "print 'after opening driver...'\n",
    "\n",
    "with open('sentimentsamples.csv', 'wb') as csvfile:\n",
    "    tweetwriter = csv.writer(csvfile)\n",
    "    \n",
    "    for partition in partitions:\n",
    "    #for partition in ['2016_3_2']:\n",
    "\n",
    "        for candidate in candidates:\n",
    "\n",
    "            start = time.time()\n",
    "\n",
    "            pos_query = pos_queries[candidate].format(partition)\n",
    "            #print pos_query\n",
    "\n",
    "            session = driver.session()\n",
    "            result = session.run(pos_query)\n",
    "\n",
    "            for record in result:\n",
    "                print partition, candidate, record[0]\n",
    "                tweetwriter.writerow([partition,candidate,'pos','supporter',record[0].encode(\"utf-8\")])\n",
    "\n",
    "            #run negative cases\n",
    "            for opponent in opponents[candidate]:\n",
    "\n",
    "                neg_query = neg_queries[candidate].format(partition, opponent)\n",
    "                #print neg_query\n",
    "\n",
    "                result = session.run(neg_query)\n",
    "\n",
    "                for record in result:\n",
    "                    print partition, candidate, record[0]\n",
    "                    tweetwriter.writerow([partition, candidate,'neg',(opponent+' supporter'),record[0].encode(\"utf-8\")])\n",
    "\n",
    "            session.close()\n",
    "\n",
    "            end = time.time()\n",
    "            print end - start\n",
    "\n",
    "        "
   ]
  },
  {
   "cell_type": "code",
   "execution_count": null,
   "metadata": {
    "collapsed": true
   },
   "outputs": [],
   "source": []
  }
 ],
 "metadata": {
  "kernelspec": {
   "display_name": "Python 2",
   "language": "python",
   "name": "python2"
  },
  "language_info": {
   "codemirror_mode": {
    "name": "ipython",
    "version": 2
   },
   "file_extension": ".py",
   "mimetype": "text/x-python",
   "name": "python",
   "nbconvert_exporter": "python",
   "pygments_lexer": "ipython2",
   "version": "2.7.10"
  }
 },
 "nbformat": 4,
 "nbformat_minor": 0
}
