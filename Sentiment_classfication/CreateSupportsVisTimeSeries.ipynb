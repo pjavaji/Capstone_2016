{
 "cells": [
  {
   "cell_type": "markdown",
   "metadata": {},
   "source": [
    "### Create Visualization Data Time Series with User Supports data\n"
   ]
  },
  {
   "cell_type": "code",
   "execution_count": 59,
   "metadata": {
    "collapsed": false
   },
   "outputs": [
    {
     "name": "stdout",
     "output_type": "stream",
     "text": [
      "300226\n"
     ]
    },
    {
     "data": {
      "text/html": [
       "<div>\n",
       "<table border=\"1\" class=\"dataframe\">\n",
       "  <thead>\n",
       "    <tr style=\"text-align: right;\">\n",
       "      <th></th>\n",
       "      <th>Unnamed: 0</th>\n",
       "      <th>year</th>\n",
       "      <th>month</th>\n",
       "      <th>day</th>\n",
       "      <th>supports</th>\n",
       "      <th>Trump</th>\n",
       "      <th>Clinton</th>\n",
       "      <th>Sanders</th>\n",
       "      <th>Cruz</th>\n",
       "      <th>Rubio</th>\n",
       "      <th>topic</th>\n",
       "      <th>frequency</th>\n",
       "    </tr>\n",
       "  </thead>\n",
       "  <tbody>\n",
       "    <tr>\n",
       "      <th>0</th>\n",
       "      <td>0</td>\n",
       "      <td>2006</td>\n",
       "      <td>3</td>\n",
       "      <td>21</td>\n",
       "      <td>none</td>\n",
       "      <td>none</td>\n",
       "      <td>none</td>\n",
       "      <td>none</td>\n",
       "      <td>none</td>\n",
       "      <td>none</td>\n",
       "      <td>racial issues</td>\n",
       "      <td>1</td>\n",
       "    </tr>\n",
       "    <tr>\n",
       "      <th>1</th>\n",
       "      <td>1</td>\n",
       "      <td>2006</td>\n",
       "      <td>3</td>\n",
       "      <td>30</td>\n",
       "      <td>none</td>\n",
       "      <td>none</td>\n",
       "      <td>none</td>\n",
       "      <td>none</td>\n",
       "      <td>none</td>\n",
       "      <td>none</td>\n",
       "      <td>racial issues</td>\n",
       "      <td>1</td>\n",
       "    </tr>\n",
       "    <tr>\n",
       "      <th>2</th>\n",
       "      <td>2</td>\n",
       "      <td>2006</td>\n",
       "      <td>8</td>\n",
       "      <td>31</td>\n",
       "      <td>none</td>\n",
       "      <td>neu</td>\n",
       "      <td>none</td>\n",
       "      <td>none</td>\n",
       "      <td>none</td>\n",
       "      <td>none</td>\n",
       "      <td>none</td>\n",
       "      <td>1</td>\n",
       "    </tr>\n",
       "    <tr>\n",
       "      <th>3</th>\n",
       "      <td>3</td>\n",
       "      <td>2006</td>\n",
       "      <td>9</td>\n",
       "      <td>8</td>\n",
       "      <td>none</td>\n",
       "      <td>none</td>\n",
       "      <td>none</td>\n",
       "      <td>none</td>\n",
       "      <td>none</td>\n",
       "      <td>none</td>\n",
       "      <td>women's issues (not abortion though)</td>\n",
       "      <td>1</td>\n",
       "    </tr>\n",
       "    <tr>\n",
       "      <th>4</th>\n",
       "      <td>4</td>\n",
       "      <td>2006</td>\n",
       "      <td>12</td>\n",
       "      <td>22</td>\n",
       "      <td>none</td>\n",
       "      <td>neu</td>\n",
       "      <td>none</td>\n",
       "      <td>none</td>\n",
       "      <td>none</td>\n",
       "      <td>none</td>\n",
       "      <td>none</td>\n",
       "      <td>7</td>\n",
       "    </tr>\n",
       "  </tbody>\n",
       "</table>\n",
       "</div>"
      ],
      "text/plain": [
       "   Unnamed: 0  year  month  day supports Trump Clinton Sanders  Cruz Rubio  \\\n",
       "0           0  2006      3   21     none  none    none    none  none  none   \n",
       "1           1  2006      3   30     none  none    none    none  none  none   \n",
       "2           2  2006      8   31     none   neu    none    none  none  none   \n",
       "3           3  2006      9    8     none  none    none    none  none  none   \n",
       "4           4  2006     12   22     none   neu    none    none  none  none   \n",
       "\n",
       "                                  topic  frequency  \n",
       "0                         racial issues          1  \n",
       "1                         racial issues          1  \n",
       "2                                  none          1  \n",
       "3  women's issues (not abortion though)          1  \n",
       "4                                  none          7  "
      ]
     },
     "execution_count": 59,
     "metadata": {},
     "output_type": "execute_result"
    }
   ],
   "source": [
    "#Debbie Hofman June 2016\n",
    "\n",
    "import pandas as pd\n",
    "\n",
    "# Read in the grouped data from Neo4j (see workbook for ResultsGroupedByCandidateTopic)\n",
    "\n",
    "df = pd.read_csv(\"./daily_supports_results_scrubbed.csv\")\n",
    "print len(df)\n",
    "df.head()"
   ]
  },
  {
   "cell_type": "code",
   "execution_count": 72,
   "metadata": {
    "collapsed": false
   },
   "outputs": [],
   "source": [
    "#unpivot data for candidates\n",
    "df2 = pd.melt(df, id_vars=['day','month','year','supports','topic','frequency'], \\\n",
    "    value_vars=['Trump','Clinton','Sanders','Cruz','Rubio'], \\\n",
    "    var_name='candidate', value_name='sentiment')\n",
    "\n"
   ]
  },
  {
   "cell_type": "code",
   "execution_count": 73,
   "metadata": {
    "collapsed": false
   },
   "outputs": [
    {
     "data": {
      "text/html": [
       "<div>\n",
       "<table border=\"1\" class=\"dataframe\">\n",
       "  <thead>\n",
       "    <tr style=\"text-align: right;\">\n",
       "      <th></th>\n",
       "      <th>day</th>\n",
       "      <th>month</th>\n",
       "      <th>year</th>\n",
       "      <th>supports</th>\n",
       "      <th>topic</th>\n",
       "      <th>frequency</th>\n",
       "      <th>candidate</th>\n",
       "      <th>sentiment</th>\n",
       "    </tr>\n",
       "  </thead>\n",
       "  <tbody>\n",
       "    <tr>\n",
       "      <th>0</th>\n",
       "      <td>21</td>\n",
       "      <td>3</td>\n",
       "      <td>2006</td>\n",
       "      <td>none</td>\n",
       "      <td>racial issues</td>\n",
       "      <td>1</td>\n",
       "      <td>Trump</td>\n",
       "      <td>none</td>\n",
       "    </tr>\n",
       "    <tr>\n",
       "      <th>1</th>\n",
       "      <td>30</td>\n",
       "      <td>3</td>\n",
       "      <td>2006</td>\n",
       "      <td>none</td>\n",
       "      <td>racial issues</td>\n",
       "      <td>1</td>\n",
       "      <td>Trump</td>\n",
       "      <td>none</td>\n",
       "    </tr>\n",
       "    <tr>\n",
       "      <th>2</th>\n",
       "      <td>31</td>\n",
       "      <td>8</td>\n",
       "      <td>2006</td>\n",
       "      <td>none</td>\n",
       "      <td>none</td>\n",
       "      <td>1</td>\n",
       "      <td>Trump</td>\n",
       "      <td>neu</td>\n",
       "    </tr>\n",
       "    <tr>\n",
       "      <th>3</th>\n",
       "      <td>8</td>\n",
       "      <td>9</td>\n",
       "      <td>2006</td>\n",
       "      <td>none</td>\n",
       "      <td>women's issues (not abortion though)</td>\n",
       "      <td>1</td>\n",
       "      <td>Trump</td>\n",
       "      <td>none</td>\n",
       "    </tr>\n",
       "    <tr>\n",
       "      <th>4</th>\n",
       "      <td>22</td>\n",
       "      <td>12</td>\n",
       "      <td>2006</td>\n",
       "      <td>none</td>\n",
       "      <td>none</td>\n",
       "      <td>7</td>\n",
       "      <td>Trump</td>\n",
       "      <td>neu</td>\n",
       "    </tr>\n",
       "  </tbody>\n",
       "</table>\n",
       "</div>"
      ],
      "text/plain": [
       "   day  month  year supports                                 topic  frequency  \\\n",
       "0   21      3  2006     none                         racial issues          1   \n",
       "1   30      3  2006     none                         racial issues          1   \n",
       "2   31      8  2006     none                                  none          1   \n",
       "3    8      9  2006     none  women's issues (not abortion though)          1   \n",
       "4   22     12  2006     none                                  none          7   \n",
       "\n",
       "  candidate sentiment  \n",
       "0     Trump      none  \n",
       "1     Trump      none  \n",
       "2     Trump       neu  \n",
       "3     Trump      none  \n",
       "4     Trump       neu  "
      ]
     },
     "execution_count": 73,
     "metadata": {},
     "output_type": "execute_result"
    }
   ],
   "source": [
    "df2.head()"
   ]
  },
  {
   "cell_type": "code",
   "execution_count": 74,
   "metadata": {
    "collapsed": true
   },
   "outputs": [],
   "source": [
    "#drop rows where sentiment is not available\n",
    "df2=df2[~(df2['sentiment']=='none')]"
   ]
  },
  {
   "cell_type": "code",
   "execution_count": 75,
   "metadata": {
    "collapsed": false
   },
   "outputs": [
    {
     "data": {
      "text/html": [
       "<div>\n",
       "<table border=\"1\" class=\"dataframe\">\n",
       "  <thead>\n",
       "    <tr style=\"text-align: right;\">\n",
       "      <th></th>\n",
       "      <th>day</th>\n",
       "      <th>month</th>\n",
       "      <th>year</th>\n",
       "      <th>supports</th>\n",
       "      <th>topic</th>\n",
       "      <th>frequency</th>\n",
       "      <th>candidate</th>\n",
       "      <th>sentiment</th>\n",
       "    </tr>\n",
       "  </thead>\n",
       "  <tbody>\n",
       "    <tr>\n",
       "      <th>2</th>\n",
       "      <td>31</td>\n",
       "      <td>8</td>\n",
       "      <td>2006</td>\n",
       "      <td>none</td>\n",
       "      <td>none</td>\n",
       "      <td>1</td>\n",
       "      <td>Trump</td>\n",
       "      <td>neu</td>\n",
       "    </tr>\n",
       "    <tr>\n",
       "      <th>4</th>\n",
       "      <td>22</td>\n",
       "      <td>12</td>\n",
       "      <td>2006</td>\n",
       "      <td>none</td>\n",
       "      <td>none</td>\n",
       "      <td>7</td>\n",
       "      <td>Trump</td>\n",
       "      <td>neu</td>\n",
       "    </tr>\n",
       "    <tr>\n",
       "      <th>5</th>\n",
       "      <td>12</td>\n",
       "      <td>5</td>\n",
       "      <td>2007</td>\n",
       "      <td>none</td>\n",
       "      <td>none</td>\n",
       "      <td>1</td>\n",
       "      <td>Trump</td>\n",
       "      <td>neg</td>\n",
       "    </tr>\n",
       "    <tr>\n",
       "      <th>6</th>\n",
       "      <td>24</td>\n",
       "      <td>8</td>\n",
       "      <td>2007</td>\n",
       "      <td>none</td>\n",
       "      <td>none</td>\n",
       "      <td>1</td>\n",
       "      <td>Trump</td>\n",
       "      <td>neu</td>\n",
       "    </tr>\n",
       "    <tr>\n",
       "      <th>26</th>\n",
       "      <td>29</td>\n",
       "      <td>8</td>\n",
       "      <td>2008</td>\n",
       "      <td>Trump</td>\n",
       "      <td>none</td>\n",
       "      <td>1</td>\n",
       "      <td>Trump</td>\n",
       "      <td>neg</td>\n",
       "    </tr>\n",
       "  </tbody>\n",
       "</table>\n",
       "</div>"
      ],
      "text/plain": [
       "    day  month  year supports topic  frequency candidate sentiment\n",
       "2    31      8  2006     none  none          1     Trump       neu\n",
       "4    22     12  2006     none  none          7     Trump       neu\n",
       "5    12      5  2007     none  none          1     Trump       neg\n",
       "6    24      8  2007     none  none          1     Trump       neu\n",
       "26   29      8  2008    Trump  none          1     Trump       neg"
      ]
     },
     "execution_count": 75,
     "metadata": {},
     "output_type": "execute_result"
    }
   ],
   "source": [
    "df2.head()"
   ]
  },
  {
   "cell_type": "code",
   "execution_count": 76,
   "metadata": {
    "collapsed": true
   },
   "outputs": [],
   "source": [
    "df2.sort(['year','month','day','supports', 'topic', 'candidate','sentiment'], inplace=True)"
   ]
  },
  {
   "cell_type": "code",
   "execution_count": 77,
   "metadata": {
    "collapsed": true
   },
   "outputs": [],
   "source": [
    "df2.to_csv('scrubbed_supports_results.csv', index=False)"
   ]
  },
  {
   "cell_type": "code",
   "execution_count": 83,
   "metadata": {
    "collapsed": false
   },
   "outputs": [
    {
     "name": "stdout",
     "output_type": "stream",
     "text": [
      "73808505\n"
     ]
    }
   ],
   "source": [
    "#number should be a little higher than original file because some tweets have multiple candidate references.\n",
    "print df2['frequency'].sum()\n",
    "\n"
   ]
  },
  {
   "cell_type": "code",
   "execution_count": 84,
   "metadata": {
    "collapsed": false
   },
   "outputs": [
    {
     "name": "stdout",
     "output_type": "stream",
     "text": [
      "63019564\n"
     ]
    }
   ],
   "source": [
    "print df['frequency'].sum()"
   ]
  },
  {
   "cell_type": "code",
   "execution_count": 85,
   "metadata": {
    "collapsed": false
   },
   "outputs": [
    {
     "name": "stdout",
     "output_type": "stream",
     "text": [
      "38048988\n"
     ]
    }
   ],
   "source": [
    "print df[df['supports']!='none']['frequency'].sum()"
   ]
  },
  {
   "cell_type": "code",
   "execution_count": 86,
   "metadata": {
    "collapsed": false
   },
   "outputs": [
    {
     "name": "stdout",
     "output_type": "stream",
     "text": [
      "579701\n"
     ]
    }
   ],
   "source": [
    "print len(df2)"
   ]
  },
  {
   "cell_type": "code",
   "execution_count": null,
   "metadata": {
    "collapsed": true
   },
   "outputs": [],
   "source": []
  }
 ],
 "metadata": {
  "kernelspec": {
   "display_name": "Python 2",
   "language": "python",
   "name": "python2"
  },
  "language_info": {
   "codemirror_mode": {
    "name": "ipython",
    "version": 2
   },
   "file_extension": ".py",
   "mimetype": "text/x-python",
   "name": "python",
   "nbconvert_exporter": "python",
   "pygments_lexer": "ipython2",
   "version": "2.7.10"
  }
 },
 "nbformat": 4,
 "nbformat_minor": 0
}
