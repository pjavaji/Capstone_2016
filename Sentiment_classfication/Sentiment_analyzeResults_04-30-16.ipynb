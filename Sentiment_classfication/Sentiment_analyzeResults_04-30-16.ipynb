{
 "cells": [
  {
   "cell_type": "markdown",
   "metadata": {},
   "source": [
    "Purpose: Analyze sentiment classifier results for both the Kaggle data and  manually-labeled election tweets.\n",
    "Author:  Carol Sniegoski\n",
    "Date:  April 30, 2016\n",
    "Course: MAS DSE Capstone, Spring 2016"
   ]
  },
  {
   "cell_type": "code",
   "execution_count": 1,
   "metadata": {
    "collapsed": false
   },
   "outputs": [
    {
     "name": "stdout",
     "output_type": "stream",
     "text": [
      "done\n"
     ]
    }
   ],
   "source": [
    "import pandas as pd\n",
    "pd.set_option('display.max_colwidth', 240)\n",
    "pd.set_option('display.max_columns', 50)\n",
    "\n",
    "import numpy as np\n",
    "\n",
    "#from sklearn.externals import joblib\n",
    "from sklearn import metrics\n",
    "from sklearn.metrics import classification\n",
    "\n",
    "print \"done\""
   ]
  },
  {
   "cell_type": "code",
   "execution_count": 2,
   "metadata": {
    "collapsed": false
   },
   "outputs": [
    {
     "name": "stdout",
     "output_type": "stream",
     "text": [
      "done\n"
     ]
    }
   ],
   "source": [
    "# Function defs.\n",
    "\n",
    "# Return string with non-ascii chars removed.\n",
    "def to_ascii(s):\n",
    "    returnstr = s.strip()\n",
    "    returnstr = \"\".join([ch for ch in returnstr if ord(ch)< 128])\n",
    "    return returnstr\n",
    "\n",
    "# Get class frequencies. Input is a series.\n",
    "def get_class_frequencies(s):\n",
    "    counts = s.value_counts()\n",
    "    total = counts.sum()\n",
    "    counts = counts.apply(lambda x: (\"Count: %d\" % x, \"Frequency: %.2f\" % (float(x)/total)) )\n",
    "    return counts.sort_index()\n",
    "\n",
    "# From newer version of python.\n",
    "def cohen_kappa_score(y1, y2, labels=None, weights=None):\n",
    "    confusion = metrics.confusion_matrix(y1, y2, labels=labels)\n",
    "    n_classes = confusion.shape[0]\n",
    "    sum0 = np.sum(confusion, axis=0)\n",
    "    sum1 = np.sum(confusion, axis=1)\n",
    "    expected = np.outer(sum0, sum1) / np.sum(sum0)\n",
    "\n",
    "    if weights is None:\n",
    "        w_mat = np.ones([n_classes, n_classes], dtype=np.int)\n",
    "        w_mat.flat[:: n_classes + 1] = 0\n",
    "    elif weights == \"linear\" or weights == \"quadratic\":\n",
    "        w_mat = np.zeros([n_classes, n_classes], dtype=np.int)\n",
    "        w_mat += np.arange(n_classes)\n",
    "        if weights == \"linear\":\n",
    "            w_mat = np.abs(w_mat - w_mat.T)\n",
    "        else:\n",
    "            w_mat = (w_mat - w_mat.T) ** 2\n",
    "    else:\n",
    "        raise ValueError(\"Unknown kappa weighting type.\")\n",
    "\n",
    "    k = np.sum(w_mat * confusion) / np.sum(w_mat * expected)\n",
    "    return 1 - k\n",
    "\n",
    "print('done')"
   ]
  },
  {
   "cell_type": "code",
   "execution_count": 3,
   "metadata": {
    "collapsed": false
   },
   "outputs": [
    {
     "name": "stdout",
     "output_type": "stream",
     "text": [
      "Labeled_electionTweets_randomSample_allPartitions_04-26-16.csv      debate08_sentiment_tweets.tsv\r\n",
      "Labeled_electionTweets_randomSample_allPartitions_04-26-16.csv.bak  debate08_sentiment_tweets.tsv.zip\r\n",
      "Labeled_electionTweets_randomSample_allPartitions_04-30-16.csv      hashtag_173_top200_byCandidateAndSentiment_05-03-16.csv\r\n",
      "Labeled_electionTweets_randomSample_allPartitions_05-04-16.csv      opinion-lexicon-English.rar\r\n",
      "bing-liu_opinion-lexicon-English_d04-13-16.rar\r\n"
     ]
    }
   ],
   "source": [
    "# Locate data dir.\n",
    "%ls ../data/sentiment/"
   ]
  },
  {
   "cell_type": "code",
   "execution_count": 4,
   "metadata": {
    "collapsed": false
   },
   "outputs": [
    {
     "name": "stdout",
     "output_type": "stream",
     "text": [
      "../data/sentiment/Labeled_electionTweets_randomSample_allPartitions_05-04-16.csv\n"
     ]
    }
   ],
   "source": [
    "# Define variables.\n",
    "\n",
    "clean_text = 'ascii_clean'\n",
    "data_dir = \"../data/sentiment/\"\n",
    "datafile_name = \"Labeled_electionTweets_randomSample_allPartitions_05-04-16.csv\"\n",
    "datafile = data_dir + datafile_name\n",
    "print datafile"
   ]
  },
  {
   "cell_type": "code",
   "execution_count": 32,
   "metadata": {
    "collapsed": false
   },
   "outputs": [
    {
     "name": "stdout",
     "output_type": "stream",
     "text": [
      "(1859, 16)\n"
     ]
    },
    {
     "data": {
      "text/html": [
       "<div style=\"max-height:1000px;max-width:1500px;overflow:auto;\">\n",
       "<table border=\"1\" class=\"dataframe\">\n",
       "  <thead>\n",
       "    <tr style=\"text-align: right;\">\n",
       "      <th></th>\n",
       "      <th>Unnamed: 0</th>\n",
       "      <th>Unnamed: 0.1</th>\n",
       "      <th>text</th>\n",
       "      <th>ascii</th>\n",
       "      <th>ascii_clean</th>\n",
       "      <th>label_LinearSVC_char3grams_0.75sample</th>\n",
       "      <th>label_cas_04-27-16</th>\n",
       "      <th>label_LinearSVC_char3grams_0.75randomsample_2016-04-27</th>\n",
       "      <th>label_RandomForest_char3grams_0.75randomsample_2016-04-28</th>\n",
       "      <th>label_LinearSVC_char3grams_originaldata_2016-04-28</th>\n",
       "      <th>label_RandomForest-d5_char3grams_originaldata_2016-04-28</th>\n",
       "      <th>label_LinearSVC_char3grams_1.8randomsample_2016-04-29</th>\n",
       "      <th>label_cas_subj</th>\n",
       "      <th>label_cas_word-sentiment</th>\n",
       "      <th>label_cas_msg-sentiment</th>\n",
       "      <th>label_cas_msg-sentiment_confidence</th>\n",
       "    </tr>\n",
       "  </thead>\n",
       "  <tbody>\n",
       "    <tr>\n",
       "      <th>0</th>\n",
       "      <td>0</td>\n",
       "      <td>0</td>\n",
       "      <td>RT @ggreenwald: Clinton sadly never complained about \"overclassification run amok\" when whistleblowers &amp;amp; sources were prosecuted... https:/…</td>\n",
       "      <td>RT @ggreenwald: Clinton sadly never complained about \"overclassification run amok\" when whistleblowers &amp;amp; sources were prosecuted... https:/</td>\n",
       "      <td>rt @ggreenwald clinton sadly never complained about overclassification run amok when whistleblowers   sources were prosecuted... url</td>\n",
       "      <td>Negative</td>\n",
       "      <td>Negative</td>\n",
       "      <td>Negative</td>\n",
       "      <td>Negative</td>\n",
       "      <td>Negative</td>\n",
       "      <td>Negative</td>\n",
       "      <td>Negative</td>\n",
       "      <td>1</td>\n",
       "      <td>-1</td>\n",
       "      <td>-1</td>\n",
       "      <td>1</td>\n",
       "    </tr>\n",
       "    <tr>\n",
       "      <th>1</th>\n",
       "      <td>1</td>\n",
       "      <td>1</td>\n",
       "      <td>Father: Ted Cruz’s success depends on people of faith https://t.co/sXviGD11Xw https://t.co/T0cdqrNowK</td>\n",
       "      <td>Father: Ted Cruzs success depends on people of faith https://t.co/sXviGD11Xw https://t.co/T0cdqrNowK</td>\n",
       "      <td>father ted cruzs success depends on people of faith url url</td>\n",
       "      <td>Negative</td>\n",
       "      <td>Neutral</td>\n",
       "      <td>Negative</td>\n",
       "      <td>Neutral</td>\n",
       "      <td>Negative</td>\n",
       "      <td>Negative</td>\n",
       "      <td>Neutral</td>\n",
       "      <td>0</td>\n",
       "      <td>0</td>\n",
       "      <td>0</td>\n",
       "      <td>0</td>\n",
       "    </tr>\n",
       "  </tbody>\n",
       "</table>\n",
       "</div>"
      ],
      "text/plain": [
       "   Unnamed: 0  Unnamed: 0.1  \\\n",
       "0           0             0   \n",
       "1           1             1   \n",
       "\n",
       "                                                                                                                                               text  \\\n",
       "0  RT @ggreenwald: Clinton sadly never complained about \"overclassification run amok\" when whistleblowers &amp; sources were prosecuted... https:/…   \n",
       "1                                             Father: Ted Cruz’s success depends on people of faith https://t.co/sXviGD11Xw https://t.co/T0cdqrNowK   \n",
       "\n",
       "                                                                                                                                             ascii  \\\n",
       "0  RT @ggreenwald: Clinton sadly never complained about \"overclassification run amok\" when whistleblowers &amp; sources were prosecuted... https:/   \n",
       "1                                             Father: Ted Cruzs success depends on people of faith https://t.co/sXviGD11Xw https://t.co/T0cdqrNowK   \n",
       "\n",
       "                                                                                                                            ascii_clean  \\\n",
       "0  rt @ggreenwald clinton sadly never complained about overclassification run amok when whistleblowers   sources were prosecuted... url   \n",
       "1                                                                           father ted cruzs success depends on people of faith url url   \n",
       "\n",
       "  label_LinearSVC_char3grams_0.75sample label_cas_04-27-16  \\\n",
       "0                              Negative           Negative   \n",
       "1                              Negative            Neutral   \n",
       "\n",
       "  label_LinearSVC_char3grams_0.75randomsample_2016-04-27  \\\n",
       "0                                               Negative   \n",
       "1                                               Negative   \n",
       "\n",
       "  label_RandomForest_char3grams_0.75randomsample_2016-04-28  \\\n",
       "0                                                  Negative   \n",
       "1                                                   Neutral   \n",
       "\n",
       "  label_LinearSVC_char3grams_originaldata_2016-04-28  \\\n",
       "0                                           Negative   \n",
       "1                                           Negative   \n",
       "\n",
       "  label_RandomForest-d5_char3grams_originaldata_2016-04-28  \\\n",
       "0                                                 Negative   \n",
       "1                                                 Negative   \n",
       "\n",
       "  label_LinearSVC_char3grams_1.8randomsample_2016-04-29  label_cas_subj  \\\n",
       "0                                              Negative               1   \n",
       "1                                               Neutral               0   \n",
       "\n",
       "   label_cas_word-sentiment  label_cas_msg-sentiment  \\\n",
       "0                        -1                       -1   \n",
       "1                         0                        0   \n",
       "\n",
       "   label_cas_msg-sentiment_confidence  \n",
       "0                                   1  \n",
       "1                                   0  "
      ]
     },
     "execution_count": 32,
     "metadata": {},
     "output_type": "execute_result"
    }
   ],
   "source": [
    "# Load datafile.\n",
    "df = pd.read_csv(datafile)\n",
    "#df=df.rename(columns = {'label':'label_LinearSVC_char3grams_0.75sample'})\n",
    "print df.shape\n",
    "df.head(2)"
   ]
  },
  {
   "cell_type": "code",
   "execution_count": 34,
   "metadata": {
    "collapsed": false
   },
   "outputs": [
    {
     "name": "stdout",
     "output_type": "stream",
     "text": [
      "['Unnamed: 0' 'Unnamed: 0.1' 'text' 'ascii' 'ascii_clean'\n",
      " 'label_LinearSVC_char3grams_0.75sample' 'label_cas_04-27-16'\n",
      " 'label_LinearSVC_char3grams_0.75randomsample_2016-04-27'\n",
      " 'label_RandomForest_char3grams_0.75randomsample_2016-04-28'\n",
      " 'label_LinearSVC_char3grams_originaldata_2016-04-28'\n",
      " 'label_RandomForest-d5_char3grams_originaldata_2016-04-28'\n",
      " 'label_LinearSVC_char3grams_1.8randomsample_2016-04-29' 'label_cas_subj'\n",
      " 'label_cas_word-sentiment' 'label_cas_msg-sentiment'\n",
      " 'label_cas_msg-sentiment_confidence' 'label_cas_word-sentiment_mapped'\n",
      " 'label_cas_msg-sentiment_mapped']\n",
      "['label_LinearSVC_char3grams_0.75sample', 'label_cas_04-27-16', 'label_LinearSVC_char3grams_0.75randomsample_2016-04-27', 'label_RandomForest_char3grams_0.75randomsample_2016-04-28', 'label_LinearSVC_char3grams_originaldata_2016-04-28', 'label_RandomForest-d5_char3grams_originaldata_2016-04-28', 'label_LinearSVC_char3grams_1.8randomsample_2016-04-29', 'label_cas_subj', 'label_cas_word-sentiment', 'label_cas_msg-sentiment', 'label_cas_msg-sentiment_confidence', 'label_cas_word-sentiment_mapped', 'label_cas_msg-sentiment_mapped']\n"
     ]
    }
   ],
   "source": [
    "# Get label column names.\n",
    "\n",
    "print df.columns.values\n",
    "\n",
    "label_col_names = filter( lambda x: x.startswith('label'), df.columns.values )\n",
    "print label_col_names"
   ]
  },
  {
   "cell_type": "code",
   "execution_count": 17,
   "metadata": {
    "collapsed": false
   },
   "outputs": [
    {
     "name": "stdout",
     "output_type": "stream",
     "text": [
      "1    74\n",
      "0    21\n",
      "dtype: int64\n",
      "-1    34\n",
      " 1    31\n",
      " 0    30\n",
      "dtype: int64\n",
      "-1    48\n",
      " 1    30\n",
      " 0    17\n",
      "dtype: int64\n",
      "1    52\n",
      "0    43\n",
      "dtype: int64\n"
     ]
    }
   ],
   "source": [
    "print df['label_cas_subj'].value_counts()\n",
    "print df['label_cas_word-sentiment'].value_counts()\n",
    "print df['label_cas_msg-sentiment'].value_counts()\n",
    "print df['label_cas_msg-sentiment_confidence'].value_counts()"
   ]
  },
  {
   "cell_type": "code",
   "execution_count": 35,
   "metadata": {
    "collapsed": false
   },
   "outputs": [
    {
     "name": "stdout",
     "output_type": "stream",
     "text": [
      "label_cas_04-27-16\n",
      "['label_LinearSVC_char3grams_0.75sample', 'label_LinearSVC_char3grams_0.75randomsample_2016-04-27', 'label_RandomForest_char3grams_0.75randomsample_2016-04-28', 'label_LinearSVC_char3grams_originaldata_2016-04-28', 'label_RandomForest-d5_char3grams_originaldata_2016-04-28', 'label_LinearSVC_char3grams_1.8randomsample_2016-04-29', 'label_cas_subj', 'label_cas_word-sentiment', 'label_cas_msg-sentiment', 'label_cas_msg-sentiment_confidence', 'label_cas_word-sentiment_mapped', 'label_cas_msg-sentiment_mapped']\n"
     ]
    }
   ],
   "source": [
    "# Set which column is the gold standard.\n",
    "\n",
    "truth = 'label_cas_04-27-16'\n",
    "label_col_names.remove(truth)\n",
    "\n",
    "print truth\n",
    "print label_col_names"
   ]
  },
  {
   "cell_type": "code",
   "execution_count": 69,
   "metadata": {
    "collapsed": false
   },
   "outputs": [
    {
     "name": "stdout",
     "output_type": "stream",
     "text": [
      "['Unnamed: 0' 'text' 'ascii' 'ascii_clean'\n",
      " 'label_LinearSVC_char3grams_0.75sample' 'label_cas_04-27-16'\n",
      " 'label_LinearSVC_char3grams_0.75randomsample_2016-04-27'\n",
      " 'label_RandomForest_char3grams_0.75randomsample_2016-04-28'\n",
      " 'label_LinearSVC_char3grams_originaldata_2016-04-28'\n",
      " 'label_RandomForest-d5_char3grams_originaldata_2016-04-28'\n",
      " 'label_LinearSVC_char3grams_1.8randomsample_2016-04-29']\n",
      "done\n"
     ]
    }
   ],
   "source": [
    "# Reset column names.\n",
    "print df.columns.values\n",
    "\n",
    "label_col_names = [ 'label_LinearSVC_char3grams_0.75randomsample_2016-04-27', \n",
    "                   'label_RandomForest_char3grams_0.75randomsample_2016-04-28',\n",
    "                   'label_LinearSVC_char3grams_originaldata_2016-04-28',\n",
    "                   'label_RandomForest-d5_char3grams_originaldata_2016-04-28',\n",
    "                   'label_LinearSVC_char3grams_1.8randomsample_2016-04-29' ]\n",
    "print 'done'"
   ]
  },
  {
   "cell_type": "code",
   "execution_count": 19,
   "metadata": {
    "collapsed": false
   },
   "outputs": [
    {
     "name": "stdout",
     "output_type": "stream",
     "text": [
      "label_cas_04-27-16\n",
      "Negative    (Count: 98, Frequency: 0.52)\n",
      "Neutral     (Count: 55, Frequency: 0.29)\n",
      "Positive    (Count: 37, Frequency: 0.19)\n",
      "dtype: object\n",
      "\n",
      "label_LinearSVC_char3grams_0.75sample\n",
      "Negative    (Count: 671, Frequency: 0.36)\n",
      "Neutral     (Count: 783, Frequency: 0.42)\n",
      "Positive    (Count: 405, Frequency: 0.22)\n",
      "dtype: object\n",
      "\n",
      "label_LinearSVC_char3grams_0.75randomsample_2016-04-27\n",
      "Negative    (Count: 671, Frequency: 0.36)\n",
      "Neutral     (Count: 783, Frequency: 0.42)\n",
      "Positive    (Count: 405, Frequency: 0.22)\n",
      "dtype: object\n",
      "\n",
      "label_RandomForest_char3grams_0.75randomsample_2016-04-28\n",
      "Negative    (Count: 696, Frequency: 0.37)\n",
      "Neutral     (Count: 898, Frequency: 0.48)\n",
      "Positive    (Count: 265, Frequency: 0.14)\n",
      "dtype: object\n",
      "\n",
      "label_LinearSVC_char3grams_originaldata_2016-04-28\n",
      "Negative    (Count: 915, Frequency: 0.49)\n",
      "Neutral     (Count: 653, Frequency: 0.35)\n",
      "Positive    (Count: 291, Frequency: 0.16)\n",
      "dtype: object\n",
      "\n",
      "label_RandomForest-d5_char3grams_originaldata_2016-04-28\n",
      "Negative    (Count: 1859, Frequency: 1.00)\n",
      "dtype: object\n",
      "\n",
      "label_LinearSVC_char3grams_1.8randomsample_2016-04-29\n",
      "Negative    (Count: 780, Frequency: 0.42)\n",
      "Neutral     (Count: 768, Frequency: 0.41)\n",
      "Positive    (Count: 311, Frequency: 0.17)\n",
      "dtype: object\n",
      "\n",
      "label_cas_subj\n",
      "0    (Count: 21, Frequency: 0.22)\n",
      "1    (Count: 74, Frequency: 0.78)\n",
      "dtype: object\n",
      "\n",
      "label_cas_word-sentiment\n",
      "-1    (Count: 34, Frequency: 0.36)\n",
      " 0    (Count: 30, Frequency: 0.32)\n",
      " 1    (Count: 31, Frequency: 0.33)\n",
      "dtype: object\n",
      "\n",
      "label_cas_msg-sentiment\n",
      "-1    (Count: 48, Frequency: 0.51)\n",
      " 0    (Count: 17, Frequency: 0.18)\n",
      " 1    (Count: 30, Frequency: 0.32)\n",
      "dtype: object\n",
      "\n",
      "label_cas_msg-sentiment_confidence\n",
      "0    (Count: 43, Frequency: 0.45)\n",
      "1    (Count: 52, Frequency: 0.55)\n",
      "dtype: object\n",
      "\n",
      "done\n"
     ]
    }
   ],
   "source": [
    "# Look at class proportions.\n",
    "\n",
    "for label_col_name in [truth]+label_col_names:\n",
    "    f = get_class_frequencies(df[label_col_name])\n",
    "    print label_col_name\n",
    "    print f\n",
    "    print\n",
    "    \n",
    "print 'done'\n",
    "    \n",
    "#f1 = get_class_frequencies(df['label_cas_04-27-16'])\n",
    "#f2 = get_class_frequencies(df['label'])\n",
    "#print f1\n",
    "#print f2"
   ]
  },
  {
   "cell_type": "code",
   "execution_count": 33,
   "metadata": {
    "collapsed": false
   },
   "outputs": [
    {
     "name": "stdout",
     "output_type": "stream",
     "text": [
      "done\n",
      "Negative    35\n",
      "Neutral     32\n",
      "Positive    31\n",
      "dtype: int64\n",
      "Negative    48\n",
      "Positive    30\n",
      "Neutral     20\n",
      "dtype: int64\n"
     ]
    }
   ],
   "source": [
    "# Map values to Positive, Negative, Neutral.\n",
    "\n",
    "#di = {10: \"A\", 20: \"B\"}\n",
    "## The values 10 and 20 are replaced by 'A' and 'B'\n",
    "#df['col1'].replace(di, inplace=True)\n",
    "#print(df)\n",
    "\n",
    "val_map = {1:\"Positive\", 0:\"Neutral\", -1:\"Negative\"}\n",
    "df['label_cas_word-sentiment_mapped'] = df['label_cas_word-sentiment']\n",
    "df['label_cas_word-sentiment_mapped'].replace( val_map, inplace=True )\n",
    "df['label_cas_msg-sentiment_mapped'] = df['label_cas_msg-sentiment']\n",
    "df['label_cas_msg-sentiment_mapped'].replace( val_map, inplace=True )\n",
    "print 'done'\n",
    "\n",
    "print df['label_cas_word-sentiment_mapped'].value_counts()\n",
    "print df['label_cas_msg-sentiment_mapped'].value_counts()"
   ]
  },
  {
   "cell_type": "code",
   "execution_count": 38,
   "metadata": {
    "collapsed": false
   },
   "outputs": [
    {
     "name": "stdout",
     "output_type": "stream",
     "text": [
      "label_LinearSVC_char3grams_0.75sample\n",
      "(190,)\n",
      "(190,)\n",
      "accuracy = 0.5\n",
      " Neg  Neu  Pos\n",
      "[[50 32 16]\n",
      " [15 30 10]\n",
      " [ 9 13 15]]\n",
      "             precision    recall  f1-score   support\n",
      "\n",
      "   Negative       0.68      0.51      0.58        98\n",
      "    Neutral       0.40      0.55      0.46        55\n",
      "   Positive       0.37      0.41      0.38        37\n",
      "\n",
      "avg / total       0.54      0.50      0.51       190\n",
      "\n",
      "\n",
      "label_LinearSVC_char3grams_originaldata_2016-04-28\n",
      "(190,)\n",
      "(190,)\n",
      "accuracy = 0.415789473684\n",
      " Neg  Neu  Pos\n",
      "[[57 34  7]\n",
      " [31 14 10]\n",
      " [13 16  8]]\n",
      "             precision    recall  f1-score   support\n",
      "\n",
      "   Negative       0.56      0.58      0.57        98\n",
      "    Neutral       0.22      0.25      0.24        55\n",
      "   Positive       0.32      0.22      0.26        37\n",
      "\n",
      "avg / total       0.42      0.42      0.41       190\n",
      "\n",
      "\n",
      "label_RandomForest-d5_char3grams_originaldata_2016-04-28\n",
      "(190,)\n",
      "(190,)\n",
      "accuracy = 0.515789473684\n",
      " Neg  Neu  Pos\n",
      "[[98  0  0]\n",
      " [55  0  0]\n",
      " [37  0  0]]\n",
      "             precision    recall  f1-score   support\n",
      "\n",
      "   Negative       0.52      1.00      0.68        98\n",
      "    Neutral       0.00      0.00      0.00        55\n",
      "   Positive       0.00      0.00      0.00        37\n",
      "\n",
      "avg / total       0.27      0.52      0.35       190\n",
      "\n",
      "\n",
      "label_LinearSVC_char3grams_1.8randomsample_2016-04-29\n",
      "(190,)\n",
      "(190,)\n",
      "accuracy = 0.410526315789\n",
      " Neg  Neu  Pos\n",
      "[[51 39  8]\n",
      " [27 19  9]\n",
      " [12 17  8]]\n",
      "             precision    recall  f1-score   support\n",
      "\n",
      "   Negative       0.57      0.52      0.54        98\n",
      "    Neutral       0.25      0.35      0.29        55\n",
      "   Positive       0.32      0.22      0.26        37\n",
      "\n",
      "avg / total       0.43      0.41      0.41       190\n",
      "\n",
      "\n",
      "label_RandomForest_char3grams_0.75randomsample_2016-04-28\n",
      "(190,)\n",
      "(190,)\n",
      "accuracy = 0.436842105263\n",
      " Neg  Neu  Pos\n",
      "[[52 40  6]\n",
      " [23 28  4]\n",
      " [16 18  3]]\n",
      "             precision    recall  f1-score   support\n",
      "\n",
      "   Negative       0.57      0.53      0.55        98\n",
      "    Neutral       0.33      0.51      0.40        55\n",
      "   Positive       0.23      0.08      0.12        37\n",
      "\n",
      "avg / total       0.43      0.44      0.42       190\n",
      "\n",
      "\n",
      "label_LinearSVC_char3grams_0.75randomsample_2016-04-27\n",
      "(190,)\n",
      "(190,)\n",
      "accuracy = 0.5\n",
      " Neg  Neu  Pos\n",
      "[[50 32 16]\n",
      " [15 30 10]\n",
      " [ 9 13 15]]\n",
      "             precision    recall  f1-score   support\n",
      "\n",
      "   Negative       0.68      0.51      0.58        98\n",
      "    Neutral       0.40      0.55      0.46        55\n",
      "   Positive       0.37      0.41      0.38        37\n",
      "\n",
      "avg / total       0.54      0.50      0.51       190\n",
      "\n",
      "\n",
      "label_cas_msg-sentiment_mapped\n",
      "(98,)\n",
      "(98,)\n",
      "accuracy = 0.80612244898\n",
      " Neg  Neu  Pos\n",
      "[[44  3  1]\n",
      " [ 2 16 10]\n",
      " [ 2  1 19]]\n",
      "             precision    recall  f1-score   support\n",
      "\n",
      "   Negative       0.92      0.92      0.92        48\n",
      "    Neutral       0.80      0.57      0.67        28\n",
      "   Positive       0.63      0.86      0.73        22\n",
      "\n",
      "avg / total       0.82      0.81      0.80        98\n",
      "\n",
      "\n",
      "label_cas_word-sentiment_mapped\n",
      "(98,)\n",
      "(98,)\n",
      "accuracy = 0.69387755102\n",
      " Neg  Neu  Pos\n",
      "[[31 13  4]\n",
      " [ 2 18  8]\n",
      " [ 2  1 19]]\n",
      "             precision    recall  f1-score   support\n",
      "\n",
      "   Negative       0.89      0.65      0.75        48\n",
      "    Neutral       0.56      0.64      0.60        28\n",
      "   Positive       0.61      0.86      0.72        22\n",
      "\n",
      "avg / total       0.73      0.69      0.70        98\n",
      "\n",
      "\n",
      "done\n"
     ]
    }
   ],
   "source": [
    "# Look at metrics for those rows that have both a 'truth' label and a predicted label.\n",
    "\n",
    "dont_use = ['label_cas_subj', 'label_cas_word-sentiment', 'label_cas_msg-sentiment', 'label_cas_msg-sentiment_confidence']\n",
    "\n",
    "#y = df[df[truth].notnull()][truth].values\n",
    "for label_col_name in list( set(label_col_names) - set(dont_use) ):\n",
    "    \n",
    "    y = df[ df[truth].notnull() & df[label_col_name].notnull() ][truth].values\n",
    "    y_pred = df[ df[truth].notnull() & df[label_col_name].notnull() ][label_col_name].values\n",
    "    #y_pred = df[df[truth].notnull()][label_col_name].values\n",
    "    \n",
    "    print label_col_name\n",
    "    print y.shape \n",
    "    print y_pred.shape \n",
    "    \n",
    "    print \"accuracy =\", metrics.accuracy_score(y, y_pred) \n",
    "    #print \"cohen's kappa =\", cohen_kappa_score(y, y_pred)\n",
    "    print ' Neg', ' Neu', ' Pos' \n",
    "    print metrics.confusion_matrix(y, y_pred) \n",
    "    print metrics.classification_report(y, y_pred) \n",
    "    print\n",
    "\n",
    "print 'done'\n",
    "\n",
    "#y = df[df['label_cas_04-27-16'].notnull()]['label_cas_04-27-16'].values\n",
    "#y_pred = df[df['label_cas_04-27-16'].notnull()]['label'].values\n",
    "\n",
    "\n",
    "# Reverse y to make sure it hurts the scores!\n",
    "#y = y[::-1]\n",
    "\n",
    "\n"
   ]
  },
  {
   "cell_type": "code",
   "execution_count": 50,
   "metadata": {
    "collapsed": false
   },
   "outputs": [
    {
     "name": "stdout",
     "output_type": "stream",
     "text": [
      "(4, 18)\n"
     ]
    },
    {
     "data": {
      "text/html": [
       "<div style=\"max-height:1000px;max-width:1500px;overflow:auto;\">\n",
       "<table border=\"1\" class=\"dataframe\">\n",
       "  <thead>\n",
       "    <tr style=\"text-align: right;\">\n",
       "      <th></th>\n",
       "      <th>text</th>\n",
       "      <th>label_cas_msg-sentiment_mapped</th>\n",
       "      <th>label_cas_word-sentiment_mapped</th>\n",
       "    </tr>\n",
       "  </thead>\n",
       "  <tbody>\n",
       "    <tr>\n",
       "      <th>7</th>\n",
       "      <td>RT @jwaxsom: Trump Announces 22 Veterans Group to Receive $6 Million Raised at Iowa Rally https://t.co/4pT5lGYYBB</td>\n",
       "      <td>Positive</td>\n",
       "      <td>Neutral</td>\n",
       "    </tr>\n",
       "    <tr>\n",
       "      <th>67</th>\n",
       "      <td>RT @AnnCoulter: IOWA TRUMP SUPPORTERS!  There's no excuse not to caucus. GOP not like Dems: Just show up, register &amp;amp; vote. The end. https:/…</td>\n",
       "      <td>Positive</td>\n",
       "      <td>Negative</td>\n",
       "    </tr>\n",
       "    <tr>\n",
       "      <th>93</th>\n",
       "      <td>RT @shanevanderhart: I've been told there are 2000 ish at the @tedcruz rally in Sioux City, packed house, spilling outside. #iacaucus https…</td>\n",
       "      <td>Positive</td>\n",
       "      <td>Neutral</td>\n",
       "    </tr>\n",
       "    <tr>\n",
       "      <th>95</th>\n",
       "      <td>RT @JohnBerman: Waiting for @BernieSanders in Iowa City. https://t.co/7ycFbQWjj9</td>\n",
       "      <td>Positive</td>\n",
       "      <td>Neutral</td>\n",
       "    </tr>\n",
       "  </tbody>\n",
       "</table>\n",
       "</div>"
      ],
      "text/plain": [
       "                                                                                                                                                text  \\\n",
       "7                                  RT @jwaxsom: Trump Announces 22 Veterans Group to Receive $6 Million Raised at Iowa Rally https://t.co/4pT5lGYYBB   \n",
       "67  RT @AnnCoulter: IOWA TRUMP SUPPORTERS!  There's no excuse not to caucus. GOP not like Dems: Just show up, register &amp; vote. The end. https:/…   \n",
       "93      RT @shanevanderhart: I've been told there are 2000 ish at the @tedcruz rally in Sioux City, packed house, spilling outside. #iacaucus https…   \n",
       "95                                                                  RT @JohnBerman: Waiting for @BernieSanders in Iowa City. https://t.co/7ycFbQWjj9   \n",
       "\n",
       "   label_cas_msg-sentiment_mapped label_cas_word-sentiment_mapped  \n",
       "7                        Positive                         Neutral  \n",
       "67                       Positive                        Negative  \n",
       "93                       Positive                         Neutral  \n",
       "95                       Positive                         Neutral  "
      ]
     },
     "execution_count": 50,
     "metadata": {},
     "output_type": "execute_result"
    }
   ],
   "source": [
    "# Which tagged tweets are positive but don't have positive sentiment words?\n",
    "test_df = df[ df['label_cas_msg-sentiment_mapped']==\"Positive\" ]\n",
    "test_df = test_df[ test_df['label_cas_word-sentiment_mapped']!=\"Positive\"]\n",
    "\n",
    "print test_df.shape\n",
    "test_df[['text', 'label_cas_msg-sentiment_mapped', 'label_cas_word-sentiment_mapped']]"
   ]
  },
  {
   "cell_type": "code",
   "execution_count": 51,
   "metadata": {
    "collapsed": false
   },
   "outputs": [
    {
     "name": "stdout",
     "output_type": "stream",
     "text": [
      "(15, 18)\n"
     ]
    },
    {
     "data": {
      "text/html": [
       "<div style=\"max-height:1000px;max-width:1500px;overflow:auto;\">\n",
       "<table border=\"1\" class=\"dataframe\">\n",
       "  <thead>\n",
       "    <tr style=\"text-align: right;\">\n",
       "      <th></th>\n",
       "      <th>text</th>\n",
       "      <th>label_cas_msg-sentiment_mapped</th>\n",
       "      <th>label_cas_word-sentiment_mapped</th>\n",
       "    </tr>\n",
       "  </thead>\n",
       "  <tbody>\n",
       "    <tr>\n",
       "      <th>3</th>\n",
       "      <td>RT @LOLGOP: Remarkably apt metaphor for Michigan's GOP. https://t.co/bd5j3Ozltp</td>\n",
       "      <td>Negative</td>\n",
       "      <td>Positive</td>\n",
       "    </tr>\n",
       "    <tr>\n",
       "      <th>15</th>\n",
       "      <td>RT @RealTimers: \"Donald Trump skipped the #GOPDebate  - it was like a #Seinfeld episode without Kramer.\" - @billmaher #RealTime</td>\n",
       "      <td>Negative</td>\n",
       "      <td>Neutral</td>\n",
       "    </tr>\n",
       "    <tr>\n",
       "      <th>17</th>\n",
       "      <td>It ain't over till it's over                         Bill Cosby.........,,,,I mean Clinton https://t.co/ygqBxKFFdU</td>\n",
       "      <td>Negative</td>\n",
       "      <td>Neutral</td>\n",
       "    </tr>\n",
       "    <tr>\n",
       "      <th>18</th>\n",
       "      <td>US declares 22 Clinton emails ‘top secret’: then-Secretary of State Hillary Rodham Clinton checks her Blackber... https://t.co/9VJJHVCDBj</td>\n",
       "      <td>Negative</td>\n",
       "      <td>Neutral</td>\n",
       "    </tr>\n",
       "    <tr>\n",
       "      <th>26</th>\n",
       "      <td>@keksec__org What do you mean, you have plenty of other socialists choices over there, they are just like Trump.</td>\n",
       "      <td>Negative</td>\n",
       "      <td>Neutral</td>\n",
       "    </tr>\n",
       "    <tr>\n",
       "      <th>28</th>\n",
       "      <td>RT @AdamBaldwin: \"I appreciate his military service, but…\" - @AndreaTantaros #ChickenhawkFallacy \\nhttps://t.co/XZKqYutplv</td>\n",
       "      <td>Negative</td>\n",
       "      <td>Positive</td>\n",
       "    </tr>\n",
       "    <tr>\n",
       "      <th>34</th>\n",
       "      <td>RT @iowahawkblog: Through the Looking Glass\\nhttps://t.co/6AMze4KN9N</td>\n",
       "      <td>Negative</td>\n",
       "      <td>Neutral</td>\n",
       "    </tr>\n",
       "    <tr>\n",
       "      <th>35</th>\n",
       "      <td>@CheriJacobus @Morning_Joe MSNBC used to be the super liberal network, now they're Trump Network News? I wonder what changed?</td>\n",
       "      <td>Negative</td>\n",
       "      <td>Neutral</td>\n",
       "    </tr>\n",
       "    <tr>\n",
       "      <th>36</th>\n",
       "      <td>Coconut Oil should be Bernie Sanders running mate</td>\n",
       "      <td>Negative</td>\n",
       "      <td>Neutral</td>\n",
       "    </tr>\n",
       "    <tr>\n",
       "      <th>51</th>\n",
       "      <td>#Politics #News Bernie Sanders tries to be the next Barack Obama in Iowa, not the next Howard... https://t.co/lSfC0ohRN3 #UniteBlue #Tcot</td>\n",
       "      <td>Negative</td>\n",
       "      <td>Neutral</td>\n",
       "    </tr>\n",
       "    <tr>\n",
       "      <th>58</th>\n",
       "      <td>RT @dissentingj: SANDERS: I can see the establishment from my office [inside the establishment]</td>\n",
       "      <td>Negative</td>\n",
       "      <td>Neutral</td>\n",
       "    </tr>\n",
       "    <tr>\n",
       "      <th>59</th>\n",
       "      <td>RT @DrewMTips: No. His online fanbois will demand someone else do it.\\n\\nThat's their thing.  https://t.co/xGmGHhyUoz</td>\n",
       "      <td>Negative</td>\n",
       "      <td>Neutral</td>\n",
       "    </tr>\n",
       "    <tr>\n",
       "      <th>72</th>\n",
       "      <td>RT @FreeBeacon: Here’s a Long List of All the @HillaryClinton Wall Street Fundraisers https://t.co/lCwPEs4Y7f via @BrentScher https://t.co/…</td>\n",
       "      <td>Negative</td>\n",
       "      <td>Neutral</td>\n",
       "    </tr>\n",
       "    <tr>\n",
       "      <th>85</th>\n",
       "      <td>RT @RichardBacula: This will go a long way to show she's not part of the #establishment.\\n\\n\"NY Times board picks #Hillary #Clinton\"\\nhttps://…</td>\n",
       "      <td>Negative</td>\n",
       "      <td>Positive</td>\n",
       "    </tr>\n",
       "    <tr>\n",
       "      <th>96</th>\n",
       "      <td>RT @Ricky_Vaughn99: TRUMP, on Bernie: \"No one wants to say the word. I call him a socialist slash communist.\" https://t.co/rE0MGAcKQb</td>\n",
       "      <td>Negative</td>\n",
       "      <td>Neutral</td>\n",
       "    </tr>\n",
       "  </tbody>\n",
       "</table>\n",
       "</div>"
      ],
      "text/plain": [
       "                                                                                                                                               text  \\\n",
       "3                                                                   RT @LOLGOP: Remarkably apt metaphor for Michigan's GOP. https://t.co/bd5j3Ozltp   \n",
       "15                  RT @RealTimers: \"Donald Trump skipped the #GOPDebate  - it was like a #Seinfeld episode without Kramer.\" - @billmaher #RealTime   \n",
       "17                               It ain't over till it's over                         Bill Cosby.........,,,,I mean Clinton https://t.co/ygqBxKFFdU   \n",
       "18        US declares 22 Clinton emails ‘top secret’: then-Secretary of State Hillary Rodham Clinton checks her Blackber... https://t.co/9VJJHVCDBj   \n",
       "26                                 @keksec__org What do you mean, you have plenty of other socialists choices over there, they are just like Trump.   \n",
       "28                       RT @AdamBaldwin: \"I appreciate his military service, but…\" - @AndreaTantaros #ChickenhawkFallacy \\nhttps://t.co/XZKqYutplv   \n",
       "34                                                                             RT @iowahawkblog: Through the Looking Glass\\nhttps://t.co/6AMze4KN9N   \n",
       "35                    @CheriJacobus @Morning_Joe MSNBC used to be the super liberal network, now they're Trump Network News? I wonder what changed?   \n",
       "36                                                                                                Coconut Oil should be Bernie Sanders running mate   \n",
       "51        #Politics #News Bernie Sanders tries to be the next Barack Obama in Iowa, not the next Howard... https://t.co/lSfC0ohRN3 #UniteBlue #Tcot   \n",
       "58                                                  RT @dissentingj: SANDERS: I can see the establishment from my office [inside the establishment]   \n",
       "59                            RT @DrewMTips: No. His online fanbois will demand someone else do it.\\n\\nThat's their thing.  https://t.co/xGmGHhyUoz   \n",
       "72     RT @FreeBeacon: Here’s a Long List of All the @HillaryClinton Wall Street Fundraisers https://t.co/lCwPEs4Y7f via @BrentScher https://t.co/…   \n",
       "85  RT @RichardBacula: This will go a long way to show she's not part of the #establishment.\\n\\n\"NY Times board picks #Hillary #Clinton\"\\nhttps://…   \n",
       "96            RT @Ricky_Vaughn99: TRUMP, on Bernie: \"No one wants to say the word. I call him a socialist slash communist.\" https://t.co/rE0MGAcKQb   \n",
       "\n",
       "   label_cas_msg-sentiment_mapped label_cas_word-sentiment_mapped  \n",
       "3                        Negative                        Positive  \n",
       "15                       Negative                         Neutral  \n",
       "17                       Negative                         Neutral  \n",
       "18                       Negative                         Neutral  \n",
       "26                       Negative                         Neutral  \n",
       "28                       Negative                        Positive  \n",
       "34                       Negative                         Neutral  \n",
       "35                       Negative                         Neutral  \n",
       "36                       Negative                         Neutral  \n",
       "51                       Negative                         Neutral  \n",
       "58                       Negative                         Neutral  \n",
       "59                       Negative                         Neutral  \n",
       "72                       Negative                         Neutral  \n",
       "85                       Negative                        Positive  \n",
       "96                       Negative                         Neutral  "
      ]
     },
     "execution_count": 51,
     "metadata": {},
     "output_type": "execute_result"
    }
   ],
   "source": [
    "# Which tagged tweets are negative but don't have negative sentiment words?\n",
    "test_df = df[ df['label_cas_msg-sentiment_mapped']==\"Negative\" ]\n",
    "test_df = test_df[ test_df['label_cas_word-sentiment_mapped']!=\"Negative\"]\n",
    "\n",
    "print test_df.shape\n",
    "test_df[['text', 'label_cas_msg-sentiment_mapped', 'label_cas_word-sentiment_mapped']]"
   ]
  },
  {
   "cell_type": "code",
   "execution_count": 121,
   "metadata": {
    "collapsed": false
   },
   "outputs": [
    {
     "name": "stdout",
     "output_type": "stream",
     "text": [
      "bing-liu_opinion-lexicon-English_d04-13-16.rar  debate08_sentiment_tweets.tsv.zip\r\n",
      "debate08_sentiment_tweets.tsv                   opinion-lexicon-English.rar\r\n"
     ]
    }
   ],
   "source": [
    "# Locate output dir.\n",
    "%ls ../data/sentiment"
   ]
  },
  {
   "cell_type": "code",
   "execution_count": 124,
   "metadata": {
    "collapsed": false
   },
   "outputs": [
    {
     "name": "stdout",
     "output_type": "stream",
     "text": [
      "../data/sentiment/Labeled_electionTweets_randomSample_allPartitions_04-26-16.csv\n",
      "done\n"
     ]
    }
   ],
   "source": [
    "# Write to csv.\n",
    "\n",
    "out_dir = \"../data/sentiment/\"\n",
    "outfile = out_dir + \"Labeled_\" + outfile_name\n",
    "print outfile\n",
    "df.to_csv(outfile)\n",
    "print 'done'"
   ]
  },
  {
   "cell_type": "code",
   "execution_count": null,
   "metadata": {
    "collapsed": true
   },
   "outputs": [],
   "source": []
  },
  {
   "cell_type": "code",
   "execution_count": null,
   "metadata": {
    "collapsed": true
   },
   "outputs": [],
   "source": []
  },
  {
   "cell_type": "code",
   "execution_count": null,
   "metadata": {
    "collapsed": true
   },
   "outputs": [],
   "source": []
  }
 ],
 "metadata": {
  "kernelspec": {
   "display_name": "Python 2",
   "language": "python",
   "name": "python2"
  },
  "language_info": {
   "codemirror_mode": {
    "name": "ipython",
    "version": 2
   },
   "file_extension": ".py",
   "mimetype": "text/x-python",
   "name": "python",
   "nbconvert_exporter": "python",
   "pygments_lexer": "ipython2",
   "version": "2.7.9"
  }
 },
 "nbformat": 4,
 "nbformat_minor": 0
}
