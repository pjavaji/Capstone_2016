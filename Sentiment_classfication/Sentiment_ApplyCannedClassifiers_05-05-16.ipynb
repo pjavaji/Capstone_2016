{
 "cells": [
  {
   "cell_type": "code",
   "execution_count": 1,
   "metadata": {
    "collapsed": true
   },
   "outputs": [],
   "source": [
    "# Purpose:  Apply canned sentiment analyzers fron the TextBlob package to predict manually-assigned tweet sentiment.\n",
    "#   This version applies them to precleaned sample election data, not the Kaggle data.\n",
    "# Author:  Carol Sniegoski\n",
    "# Date:  05/05/16\n",
    "# Course:  MAS DSE capstone, Spring 2016"
   ]
  },
  {
   "cell_type": "code",
   "execution_count": 7,
   "metadata": {
    "collapsed": false
   },
   "outputs": [
    {
     "name": "stdout",
     "output_type": "stream",
     "text": [
      "done\n"
     ]
    }
   ],
   "source": [
    "import pandas as pd\n",
    "from textblob import TextBlob\n",
    "from textblob import Blobber\n",
    "from textblob.taggers import NLTKTagger\n",
    "from textblob.sentiments import NaiveBayesAnalyzer\n",
    "\n",
    "import matplotlib.pylab as plt\n",
    "%matplotlib inline\n",
    "import math\n",
    "\n",
    "pd.set_option('display.max_colwidth', 240)\n",
    "pd.set_option('display.max_columns', 50)\n",
    "\n",
    "print 'done'\n"
   ]
  },
  {
   "cell_type": "code",
   "execution_count": 8,
   "metadata": {
    "collapsed": false
   },
   "outputs": [
    {
     "name": "stdout",
     "output_type": "stream",
     "text": [
      "done\n"
     ]
    }
   ],
   "source": [
    "# Function defs.\n",
    "\n",
    "# Get the textblob's sentiment.\n",
    "# If using the default sentiment analyzer, this is a named tuple of (polarity, subjectivity).\n",
    "# If using the NaiveBayesAnalyzer, this is a named tuple of (classification, p_pos, p_neg).\n",
    "def get_blob_sentiment(b):\n",
    "    return b.sentiment\n",
    "\n",
    "# Return string with non-ascii chars removed.\n",
    "def to_ascii(s):\n",
    "    returnstr = s.strip()\n",
    "    returnstr = \"\".join([ch for ch in returnstr if ord(ch)< 128])\n",
    "    return returnstr\n",
    "\n",
    "# Return count of rows in which col1 == col2.\n",
    "def get_agreement(df, col1, col2):\n",
    "    return df[df[col1]==df[col2]].shape[0]\n",
    "\n",
    "# Return df representing confusion matrix. Col1 values are the rows, col2 values are the columns.\n",
    "def get_confusion_matrix(df, row_col, col_col):\n",
    "    vals = pd.unique(df[[row_col, col_col]].values.ravel())\n",
    "    print type(vals)\n",
    "    print \"vals=\", vals\n",
    "    vals.sort()\n",
    "    \n",
    "    rows_list = []\n",
    "    for row_val in vals:\n",
    "        dict = {row_col:row_val}\n",
    "        for col_val in vals:\n",
    "            count = df[ (df[row_col]==row_val) & (df[col_col]==col_val) ].shape[0]\n",
    "            dict[col_val] = count\n",
    "        rows_list.append(dict)\n",
    "    #conf_df = pd.DataFrame(rows_list[1:]) \n",
    "    conf_df = pd.DataFrame(rows_list)\n",
    "    return conf_df\n",
    "\n",
    "print 'done'"
   ]
  },
  {
   "cell_type": "code",
   "execution_count": 9,
   "metadata": {
    "collapsed": false
   },
   "outputs": [
    {
     "name": "stdout",
     "output_type": "stream",
     "text": [
      "Labeled_electionTweets_randomSample_allPartitions_04-26-16.csv      bing-liu_opinion-lexicon-English_d04-13-16.rar\r\n",
      "Labeled_electionTweets_randomSample_allPartitions_04-26-16.csv.bak  debate08_sentiment_tweets.tsv\r\n",
      "Labeled_electionTweets_randomSample_allPartitions_04-30-16.csv      debate08_sentiment_tweets.tsv.zip\r\n",
      "Labeled_electionTweets_randomSample_allPartitions_05-04-16.csv      hashtag_173_top200_byCandidateAndSentiment_05-03-16.csv\r\n",
      "Labeled_electionTweets_randomSample_allPartitions_05-04-16.csv.bak  opinion-lexicon-English.rar\r\n"
     ]
    }
   ],
   "source": [
    "# Locate the data.\n",
    "%ls ../data/sentiment"
   ]
  },
  {
   "cell_type": "code",
   "execution_count": 10,
   "metadata": {
    "collapsed": false
   },
   "outputs": [
    {
     "name": "stdout",
     "output_type": "stream",
     "text": [
      "../data/sentiment/Labeled_electionTweets_randomSample_allPartitions_05-04-16.csv\n"
     ]
    }
   ],
   "source": [
    "# Define variables.\n",
    "\n",
    "clean_text = 'ascii_clean'\n",
    "data_dir = \"../data/sentiment/\"\n",
    "datafile_name = \"Labeled_electionTweets_randomSample_allPartitions_05-04-16.csv\"\n",
    "datafile = data_dir + datafile_name\n",
    "print datafile"
   ]
  },
  {
   "cell_type": "code",
   "execution_count": 11,
   "metadata": {
    "collapsed": false
   },
   "outputs": [
    {
     "name": "stdout",
     "output_type": "stream",
     "text": [
      "(1859, 17)\n"
     ]
    },
    {
     "data": {
      "text/html": [
       "<div style=\"max-height:1000px;max-width:1500px;overflow:auto;\">\n",
       "<table border=\"1\" class=\"dataframe\">\n",
       "  <thead>\n",
       "    <tr style=\"text-align: right;\">\n",
       "      <th></th>\n",
       "      <th>Unnamed: 0</th>\n",
       "      <th>Unnamed: 0.1</th>\n",
       "      <th>text</th>\n",
       "      <th>ascii</th>\n",
       "      <th>ascii_clean</th>\n",
       "      <th>label_LinearSVC_char3grams_0.75sample</th>\n",
       "      <th>label_cas_04-27-16</th>\n",
       "      <th>label_LinearSVC_char3grams_0.75randomsample_2016-04-27</th>\n",
       "      <th>label_RandomForest_char3grams_0.75randomsample_2016-04-28</th>\n",
       "      <th>label_LinearSVC_char3grams_originaldata_2016-04-28</th>\n",
       "      <th>label_RandomForest-d5_char3grams_originaldata_2016-04-28</th>\n",
       "      <th>label_LinearSVC_char3grams_1.8randomsample_2016-04-29</th>\n",
       "      <th>label_cas_subj</th>\n",
       "      <th>label_cas_word-sentiment</th>\n",
       "      <th>label_cas_msg-sentiment</th>\n",
       "      <th>label_cas_msg-sentiment_confidence</th>\n",
       "      <th>label_cas_sentiment-candidate</th>\n",
       "    </tr>\n",
       "  </thead>\n",
       "  <tbody>\n",
       "    <tr>\n",
       "      <th>0</th>\n",
       "      <td>0</td>\n",
       "      <td>0</td>\n",
       "      <td>RT @ggreenwald: Clinton sadly never complained about \"overclassification run amok\" when whistleblowers &amp;amp; sources were prosecuted... https:/…</td>\n",
       "      <td>RT @ggreenwald: Clinton sadly never complained about \"overclassification run amok\" when whistleblowers &amp;amp; sources were prosecuted... https:/</td>\n",
       "      <td>rt @ggreenwald clinton sadly never complained about overclassification run amok when whistleblowers   sources were prosecuted... url</td>\n",
       "      <td>Negative</td>\n",
       "      <td>Negative</td>\n",
       "      <td>Negative</td>\n",
       "      <td>Negative</td>\n",
       "      <td>Negative</td>\n",
       "      <td>Negative</td>\n",
       "      <td>Negative</td>\n",
       "      <td>1</td>\n",
       "      <td>-1</td>\n",
       "      <td>-1</td>\n",
       "      <td>1</td>\n",
       "      <td>Clinton-</td>\n",
       "    </tr>\n",
       "    <tr>\n",
       "      <th>1</th>\n",
       "      <td>1</td>\n",
       "      <td>1</td>\n",
       "      <td>Father: Ted Cruz’s success depends on people of faith https://t.co/sXviGD11Xw https://t.co/T0cdqrNowK</td>\n",
       "      <td>Father: Ted Cruzs success depends on people of faith https://t.co/sXviGD11Xw https://t.co/T0cdqrNowK</td>\n",
       "      <td>father ted cruzs success depends on people of faith url url</td>\n",
       "      <td>Negative</td>\n",
       "      <td>Neutral</td>\n",
       "      <td>Negative</td>\n",
       "      <td>Neutral</td>\n",
       "      <td>Negative</td>\n",
       "      <td>Negative</td>\n",
       "      <td>Neutral</td>\n",
       "      <td>0</td>\n",
       "      <td>0</td>\n",
       "      <td>0</td>\n",
       "      <td>0</td>\n",
       "      <td>Cruz0</td>\n",
       "    </tr>\n",
       "  </tbody>\n",
       "</table>\n",
       "</div>"
      ],
      "text/plain": [
       "   Unnamed: 0  Unnamed: 0.1  \\\n",
       "0           0             0   \n",
       "1           1             1   \n",
       "\n",
       "                                                                                                                                               text  \\\n",
       "0  RT @ggreenwald: Clinton sadly never complained about \"overclassification run amok\" when whistleblowers &amp; sources were prosecuted... https:/…   \n",
       "1                                             Father: Ted Cruz’s success depends on people of faith https://t.co/sXviGD11Xw https://t.co/T0cdqrNowK   \n",
       "\n",
       "                                                                                                                                             ascii  \\\n",
       "0  RT @ggreenwald: Clinton sadly never complained about \"overclassification run amok\" when whistleblowers &amp; sources were prosecuted... https:/   \n",
       "1                                             Father: Ted Cruzs success depends on people of faith https://t.co/sXviGD11Xw https://t.co/T0cdqrNowK   \n",
       "\n",
       "                                                                                                                            ascii_clean  \\\n",
       "0  rt @ggreenwald clinton sadly never complained about overclassification run amok when whistleblowers   sources were prosecuted... url   \n",
       "1                                                                           father ted cruzs success depends on people of faith url url   \n",
       "\n",
       "  label_LinearSVC_char3grams_0.75sample label_cas_04-27-16  \\\n",
       "0                              Negative           Negative   \n",
       "1                              Negative            Neutral   \n",
       "\n",
       "  label_LinearSVC_char3grams_0.75randomsample_2016-04-27  \\\n",
       "0                                               Negative   \n",
       "1                                               Negative   \n",
       "\n",
       "  label_RandomForest_char3grams_0.75randomsample_2016-04-28  \\\n",
       "0                                                  Negative   \n",
       "1                                                   Neutral   \n",
       "\n",
       "  label_LinearSVC_char3grams_originaldata_2016-04-28  \\\n",
       "0                                           Negative   \n",
       "1                                           Negative   \n",
       "\n",
       "  label_RandomForest-d5_char3grams_originaldata_2016-04-28  \\\n",
       "0                                                 Negative   \n",
       "1                                                 Negative   \n",
       "\n",
       "  label_LinearSVC_char3grams_1.8randomsample_2016-04-29  label_cas_subj  \\\n",
       "0                                              Negative               1   \n",
       "1                                               Neutral               0   \n",
       "\n",
       "   label_cas_word-sentiment  label_cas_msg-sentiment  \\\n",
       "0                        -1                       -1   \n",
       "1                         0                        0   \n",
       "\n",
       "   label_cas_msg-sentiment_confidence label_cas_sentiment-candidate  \n",
       "0                                   1                      Clinton-  \n",
       "1                                   0                         Cruz0  "
      ]
     },
     "execution_count": 11,
     "metadata": {},
     "output_type": "execute_result"
    }
   ],
   "source": [
    "# Load datafile.\n",
    "df = pd.read_csv(datafile)\n",
    "#df=df.rename(columns = {'label':'label_LinearSVC_char3grams_0.75sample'})\n",
    "print df.shape\n",
    "df.head(2)"
   ]
  },
  {
   "cell_type": "code",
   "execution_count": null,
   "metadata": {
    "collapsed": true
   },
   "outputs": [],
   "source": []
  },
  {
   "cell_type": "code",
   "execution_count": 487,
   "metadata": {
    "collapsed": false
   },
   "outputs": [
    {
     "name": "stdout",
     "output_type": "stream",
     "text": [
      "done\n",
      "  K_sentiment b_sentiment  b_polarity_num  b_subjectivity_num  \\\n",
      "0     Neutral    Positive           0.125            0.158333   \n",
      "1    Positive    Positive           0.450            0.305556   \n",
      "\n",
      "                                                                                                                    ascii  \n",
      "0                 RT NancyLeeGrahn How did everyone feel about the Climate Change question last night? Exactly. GOPDebate  \n",
      "1  RT ScottWalker Didnt catch the full GOPdebate last night. Here are some of Scotts best lines in 90 seconds. Walker16    \n"
     ]
    }
   ],
   "source": [
    "# Assign sentiment using TextBlob's default analyzer. \n",
    "# This is based on pattern analysis and a lexicon.\n",
    "# It returns named tuple of floats ( polarity, subjectivity ).\n",
    "# Polarity is -1 to 1, with 1 being the most positive. Subjectivity is 0 to 1, with 1 being the most subjective.\n",
    "\n",
    "b = Blobber(pos_tagger=NLTKTagger())\n",
    "df['blob'] = df[clean_text].apply(b)\n",
    "df['b_sentiment_num'] = df['blob'].apply(get_blob_sentiment)\n",
    "df['b_polarity_num'] = df['b_sentiment_num'].apply(lambda x: x.polarity)\n",
    "df['b_subjectivity_num'] = df['b_sentiment_num'].apply(lambda x: x.subjectivity)\n",
    "\n",
    "# Set thresholds for mapping numeric polarity and subjectivity values to Postive, Negative, Neutral class labels.\n",
    "# You can tweak these as you like, but the results are never that good.\n",
    "SUBJ_THRESHOLD = .03  # If numeric subjectivity value < SUBJ_THRESHOLD, assign sentiment Neutral.\n",
    "POS_THRESHOLD = .1    # If sentiment is not Neutral, and numeric polarity rating > POS_THRESHOLD, assign sentiment Positive.\n",
    "NEG_THRESHOLD = .1    # If sentiment is not Neutral, and numeric polarity rating < NEG_THRESHOLD, assign sentiment Negative.\n",
    "\n",
    "df['b_sentiment'] = 'Nothing'\n",
    "\n",
    "# Don't use this approach - it updates a copy of a slice of the df, not the df itself.\n",
    "#df['b_sentiment'][ (df['b_subjectivity_num']>=SUBJ_THRESHOLD) & (df['b_polarity_num']>POS_THRESHOLD) ] = 'Positive'\n",
    "#df['b_sentiment'][ (df['b_subjectivity_num']>=SUBJ_THRESHOLD) & (df['b_polarity_num']<NEG_THRESHOLD) ] = 'Negative'\n",
    "\n",
    "# Use this approach.\n",
    "#df.loc[df['Age'] > 40, 'Age_Group'] = '>40'\n",
    "df.loc[ ((df['b_subjectivity_num']<=SUBJ_THRESHOLD)), 'b_sentiment' ] = 'Neutral'\n",
    "df.loc[ ((df['b_subjectivity_num']>SUBJ_THRESHOLD) & (df['b_polarity_num']>=POS_THRESHOLD)), 'b_sentiment' ] = 'Positive'\n",
    "df.loc[ ((df['b_subjectivity_num']>SUBJ_THRESHOLD) & (df['b_polarity_num']<NEG_THRESHOLD)), 'b_sentiment' ] = 'Negative'\n",
    "\n",
    "print 'done'\n",
    "print df[['K_sentiment', 'b_sentiment', 'b_polarity_num', 'b_subjectivity_num', 'ascii']].head(2)           "
   ]
  },
  {
   "cell_type": "code",
   "execution_count": 489,
   "metadata": {
    "collapsed": false
   },
   "outputs": [
    {
     "name": "stdout",
     "output_type": "stream",
     "text": [
      "41.9147862447 % agreement ( 5814 out of 13871 )\n",
      "<type 'numpy.ndarray'>\n",
      "vals= ['Neutral' 'Positive' 'Negative']\n",
      "  K_sentiment  Negative  Neutral  Positive\n",
      "0    Negative      3234     3043      2216\n",
      "1     Neutral       835     1401       906\n",
      "2    Positive       349      708      1179\n",
      "done\n"
     ]
    }
   ],
   "source": [
    "# Check agreement between truth sentiment assignments & TextBlob assignments.\n",
    "\n",
    "agr = get_agreement(df, 'K_sentiment', 'b_sentiment')\n",
    "denom = df.shape[0]\n",
    "print float(agr)*100/denom, \"% agreement (\", agr, \"out of\", denom, \")\"\n",
    "\n",
    "confusion_df = get_confusion_matrix(df, 'K_sentiment', 'b_sentiment')\n",
    "print confusion_df\n",
    "print 'done'\n",
    "\n",
    "# Wow, these results are really poor."
   ]
  },
  {
   "cell_type": "code",
   "execution_count": 490,
   "metadata": {
    "collapsed": false
   },
   "outputs": [
    {
     "data": {
      "text/plain": [
       "array([[<matplotlib.axes._subplots.AxesSubplot object at 0x13cc20790>,\n",
       "        <matplotlib.axes._subplots.AxesSubplot object at 0x156ddf8d0>],\n",
       "       [<matplotlib.axes._subplots.AxesSubplot object at 0x156df6ed0>,\n",
       "        <matplotlib.axes._subplots.AxesSubplot object at 0x156e8e390>]], dtype=object)"
      ]
     },
     "execution_count": 490,
     "metadata": {},
     "output_type": "execute_result"
    },
    {
     "data": {
      "image/png": "[encoded data removed]",
      "text/plain": [
       "<matplotlib.figure.Figure at 0x13d612a50>"
      ]
     },
     "metadata": {},
     "output_type": "display_data"
    }
   ],
   "source": [
    "# Create histograms of polarity & subjectivity, by truth sentiment.\n",
    "\n",
    "df[['b_polarity_num', 'b_subjectivity_num']].hist(by=df['K_sentiment'], figsize=(15,8))\n",
    "#df.plot(figsize=(10,4))\n",
    "\n",
    "# Positive Kaggle-assigned tweets skew positive, but negative Kaggle-assigned tweets don't skew\n",
    "# that negative, and all Kaggle categories contain many neutrai tweets."
   ]
  },
  {
   "cell_type": "code",
   "execution_count": 493,
   "metadata": {
    "collapsed": false
   },
   "outputs": [
    {
     "data": {
      "text/plain": [
       "<matplotlib.legend.Legend at 0x148912450>"
      ]
     },
     "execution_count": 493,
     "metadata": {},
     "output_type": "execute_result"
    },
    {
     "data": {
      "image/png": "[encoded data removed]",
      "text/plain": [
       "<matplotlib.figure.Figure at 0x1378bb850>"
      ]
     },
     "metadata": {},
     "output_type": "display_data"
    }
   ],
   "source": [
    "# Create scatter plot of polarity vs subjectivity, colored by truth sentiment.\n",
    "\n",
    "def sigmoid(x):\n",
    "    return 1 + (1/(1+math.exp(-100000*x)))\n",
    "    \n",
    "\n",
    "#plt.scatter(df['K_sentiment'].values.tolist(), df['b_sentiment'].values.tolist())\n",
    "#plt.scatter( df['b_subjectivity_num'].values.tolist(), df['b_polarity_num'].values.tolist())\n",
    "#plt.scatter( df.b_subjectivity_num, df.b_polarity_num, s=df.sentiment_confidence.apply(sigmoid))\n",
    "#plt.scatter( df.b_subjectivity_num, df.b_polarity_num, s=df.retweet_count/20)\n",
    "#df.plot.scatter()\n",
    "#type(df['K_sentiment'].values.tolist())\n",
    "\n",
    "K_neg = df[df['K_sentiment']==\"Negative\"]\n",
    "K_pos = df[df['K_sentiment']==\"Positive\"]\n",
    "K_neu = df[df['K_sentiment']==\"Neutral\"]\n",
    "plt.figure(figsize=(15,10))\n",
    "#plt.scatter( K_neg.b_subjectivity_num, K_neg.b_polarity_num, s=K_neg.retweet_count/5, c='r', edgecolor='r', label='K=Neg')\n",
    "#plt.scatter( K_pos.b_subjectivity_num, K_pos.b_polarity_num, s=K_pos.retweet_count/5, c='g', edgecolor='g', label='K=Pos')\n",
    "#plt.scatter( K_neu.b_subjectivity_num, K_neu.b_polarity_num, s=K_neu.retweet_count/5, c='b', edgecolor='b', label='K=Neu')\n",
    "plt.scatter( K_neg.b_subjectivity_num, K_neg.b_polarity_num, s=20, c='r', edgecolor='r', label='K=Neg')\n",
    "plt.scatter( K_pos.b_subjectivity_num, K_pos.b_polarity_num, s=20, c='g', edgecolor='g', label='K=Pos')\n",
    "plt.scatter( K_neu.b_subjectivity_num, K_neu.b_polarity_num, s=20, c='b', edgecolor='b', label='K=Neu')\n",
    "plt.legend()\n",
    "\n",
    "\n",
    "#cond = df.col3 > 300\n",
    "#subset_a = df[cond].dropna()\n",
    "#subset_b = df[~cond].dropna()\n",
    "#plt.scatter(subset_a.col1, subset_a.col2, s=120, c='b', label='col3 > 300')\n",
    "#plt.scatter(subset_b.col1, subset_b.col2, s=60, c='r', label='col3 <= 300') \n",
    "#plt.legend()"
   ]
  },
  {
   "cell_type": "code",
   "execution_count": 491,
   "metadata": {
    "collapsed": false
   },
   "outputs": [
    {
     "data": {
      "text/plain": [
       "array([[<matplotlib.axes._subplots.AxesSubplot object at 0x13cc20850>,\n",
       "        <matplotlib.axes._subplots.AxesSubplot object at 0x1577b1390>],\n",
       "       [<matplotlib.axes._subplots.AxesSubplot object at 0x157832210>,\n",
       "        <matplotlib.axes._subplots.AxesSubplot object at 0x1578959d0>]], dtype=object)"
      ]
     },
     "execution_count": 491,
     "metadata": {},
     "output_type": "execute_result"
    },
    {
     "data": {
      "image/png": "[encoded data removed]",
      "text/plain": [
       "<matplotlib.figure.Figure at 0x157196310>"
      ]
     },
     "metadata": {},
     "output_type": "display_data"
    }
   ],
   "source": [
    "# Create histogram of Kaggle-assigned sentiment confidence. Maybe higher-confidence labels are classified better.\n",
    "df[['sentiment_confidence']].hist(by=df['K_sentiment'], figsize=(15,8))"
   ]
  },
  {
   "cell_type": "code",
   "execution_count": 479,
   "metadata": {
    "collapsed": false
   },
   "outputs": [
    {
     "name": "stdout",
     "output_type": "stream",
     "text": [
      "done\n"
     ]
    },
    {
     "data": {
      "image/png": "[encoded data removed]",
      "text/plain": [
       "<matplotlib.figure.Figure at 0x14a77c790>"
      ]
     },
     "metadata": {},
     "output_type": "display_data"
    }
   ],
   "source": [
    "# Now create histograms of polarity & subjectivity, by Kaggle-assigned sentiment, by Kaggle sentiment confidence.\n",
    "\n",
    "#test_df = df[df['sentiment_confidence']>.5][['b_polarity_num', 'b_subjectivity_num']]\n",
    "df[df['sentiment_confidence']>.9][['b_polarity_num', 'b_subjectivity_num']].hist(by=df['K_sentiment'], figsize=(15,8))\n",
    "#df[['b_polarity_num', 'b_subjectivity_num']].hist(by=df['K_sentiment'], figsize=(15,8))\n",
    "\n",
    "print 'done'"
   ]
  },
  {
   "cell_type": "code",
   "execution_count": 492,
   "metadata": {
    "collapsed": false
   },
   "outputs": [
    {
     "name": "stdout",
     "output_type": "stream",
     "text": [
      "46.6629485034 % agreement ( 2510 out of 5379 )\n",
      "<type 'numpy.ndarray'>\n",
      "vals= ['Positive' 'Negative' 'Neutral']\n",
      "  K_sentiment  Negative  Neutral  Positive\n",
      "0    Negative      1714     1399       885\n",
      "1     Neutral       168      322       152\n",
      "2    Positive        74      191       474\n",
      "done\n"
     ]
    }
   ],
   "source": [
    "# Check whether agreement is better for high-confidence Kaggle assignments.\n",
    "\n",
    "temp_df = df[df['sentiment_confidence']>.8]\n",
    "agr = get_agreement(temp_df, 'K_sentiment', 'b_sentiment')\n",
    "denom = temp_df.shape[0]\n",
    "print float(agr)*100/denom, \"% agreement (\", agr, \"out of\", denom, \")\"\n",
    "\n",
    "confusion_df = get_confusion_matrix(temp_df, 'K_sentiment', 'b_sentiment')\n",
    "print confusion_df\n",
    "print 'done'\n",
    "\n",
    "# Agreement is somewhat better, but still poor."
   ]
  },
  {
   "cell_type": "code",
   "execution_count": null,
   "metadata": {
    "collapsed": true
   },
   "outputs": [],
   "source": []
  },
  {
   "cell_type": "code",
   "execution_count": 496,
   "metadata": {
    "collapsed": false
   },
   "outputs": [
    {
     "name": "stdout",
     "output_type": "stream",
     "text": [
      "done\n",
      "  K_sentiment nb_sentiment  nb_p_pos  nb_p_neg  \\\n",
      "0     Neutral     Positive  0.860251  0.139749   \n",
      "1    Positive     Negative  0.192213  0.807787   \n",
      "\n",
      "                                                                                                                    ascii  \n",
      "0                 RT NancyLeeGrahn How did everyone feel about the Climate Change question last night? Exactly. GOPDebate  \n",
      "1  RT ScottWalker Didnt catch the full GOPdebate last night. Here are some of Scotts best lines in 90 seconds. Walker16    \n"
     ]
    }
   ],
   "source": [
    "# Now perform sentiment analysis using the NaiveBayesAnalyzer, an NLTK classifier trained on a movie reviews corpus.\n",
    "\n",
    "nb = Blobber(pos_tagger=NLTKTagger(), analyzer=NaiveBayesAnalyzer())\n",
    "\n",
    "df['nb_blob'] = df['ascii'].apply(nb)\n",
    "df['nb_sentiment_tuple'] = df['nb_blob'].apply(get_blob_sentiment)\n",
    "df['nb_sentiment'] = df['nb_sentiment_tuple'].apply(lambda x: x.classification)\n",
    "df['nb_p_pos'] = df['nb_sentiment_tuple'].apply(lambda x: x.p_pos)\n",
    "df['nb_p_neg'] = df['nb_sentiment_tuple'].apply(lambda x: x.p_neg)\n",
    "\n",
    "# Map 'pos' to 'Positive', 'neg' to 'Negative'\n",
    "df['nb_sentiment'].replace({ 'pos':'Positive', 'neg':'Negative' }, inplace=True)\n",
    "# Map unsure to 'Neutral'\n",
    "df.loc[ ((df['nb_p_pos']>.50) & (df['nb_p_pos']<.60)), 'nb_sentiment'] = 'Neutral'\n",
    "\n",
    "#df.loc[ ((df['b_subjectivity_num']>SUBJ_THRESHOLD) & (df['b_polarity_num']<NEG_THRESHOLD)), 'b_sentiment' ] = 'Negative'\n",
    "\n",
    "print 'done'\n",
    "print df[['K_sentiment', 'nb_sentiment', 'nb_p_pos', 'nb_p_neg', 'ascii']].head(2)          "
   ]
  },
  {
   "cell_type": "code",
   "execution_count": 497,
   "metadata": {
    "collapsed": false
   },
   "outputs": [
    {
     "name": "stdout",
     "output_type": "stream",
     "text": [
      "38.4254920337 % agreement ( 5330 out of 13871 )\n",
      "<type 'numpy.ndarray'>\n",
      "vals= ['Neutral' 'Positive' 'Negative']\n",
      "  K_sentiment  Negative  Neutral  Positive\n",
      "0    Negative      3561      975      3957\n",
      "1     Neutral      1069      443      1630\n",
      "2    Positive       514      396      1326\n",
      "done\n"
     ]
    }
   ],
   "source": [
    "# Check agreement between Kaggle sentiment assignments & NaiveBayesAnalyzer assignments.\n",
    "\n",
    "agr = get_agreement(df, 'K_sentiment', 'nb_sentiment')\n",
    "denom = df.shape[0]\n",
    "print float(agr)*100/denom, \"% agreement (\", agr, \"out of\", denom, \")\"\n",
    "\n",
    "confusion_df = get_confusion_matrix(df, 'K_sentiment', 'nb_sentiment')\n",
    "print confusion_df\n",
    "print 'done'\n",
    "\n",
    "# Wow, even worse."
   ]
  },
  {
   "cell_type": "code",
   "execution_count": 498,
   "metadata": {
    "collapsed": false
   },
   "outputs": [
    {
     "name": "stdout",
     "output_type": "stream",
     "text": [
      "37.4594477687 % agreement ( 5196 out of 13871 )\n",
      "<type 'numpy.ndarray'>\n",
      "vals= ['Positive' 'Negative' 'Neutral']\n",
      "   Negative  Neutral  Positive b_sentiment\n",
      "0      1984      425      2009    Negative\n",
      "1      1954      753      2445     Neutral\n",
      "2      1206      636      2459    Positive\n",
      "done\n"
     ]
    }
   ],
   "source": [
    "# Check agreement between TextBlob default sentiment assignments & NaiveBayesAnalyzer assignments.\n",
    "\n",
    "agr = get_agreement(df, 'b_sentiment', 'nb_sentiment')\n",
    "denom = df.shape[0]\n",
    "print float(agr)*100/denom, \"% agreement (\", agr, \"out of\", denom, \")\"\n",
    "\n",
    "confusion_df = get_confusion_matrix(df, 'b_sentiment', 'nb_sentiment')\n",
    "print confusion_df\n",
    "print 'done'\n",
    "\n",
    "# Even the two classifiers don't agree particularly well."
   ]
  },
  {
   "cell_type": "code",
   "execution_count": null,
   "metadata": {
    "collapsed": true
   },
   "outputs": [],
   "source": []
  },
  {
   "cell_type": "code",
   "execution_count": 499,
   "metadata": {
    "collapsed": false
   },
   "outputs": [
    {
     "data": {
      "text/plain": [
       "array([[<matplotlib.axes._subplots.AxesSubplot object at 0x14b84e090>,\n",
       "        <matplotlib.axes._subplots.AxesSubplot object at 0x15995a590>],\n",
       "       [<matplotlib.axes._subplots.AxesSubplot object at 0x13acd5850>,\n",
       "        <matplotlib.axes._subplots.AxesSubplot object at 0x14d0902d0>]], dtype=object)"
      ]
     },
     "execution_count": 499,
     "metadata": {},
     "output_type": "execute_result"
    },
    {
     "data": {
      "image/png": "[encoded data removed]",
      "text/plain": [
       "<matplotlib.figure.Figure at 0x157b23810>"
      ]
     },
     "metadata": {},
     "output_type": "display_data"
    }
   ],
   "source": [
    "# Create histograms of the NaiveBayesAnalyzer's p(pos) by Kaggle-assigned sentiment.\n",
    "# Note that p(pos) + p(neg) = 1, so we don't need to plot them both.\n",
    "\n",
    "K_neg = df[df['K_sentiment']==\"Negative\"]\n",
    "K_pos = df[df['K_sentiment']==\"Positive\"]\n",
    "K_neu = df[df['K_sentiment']==\"Neutral\"]\n",
    "\n",
    "#plt.figure(figsize=(15,10))\n",
    "#plt.scatter( K_neg.b_subjectivity_num, K_neg.b_polarity_num, s=K_neg.retweet_count/5, c='r', edgecolor='r', label='K=Neg')\n",
    "#plt.scatter( K_pos.b_subjectivity_num, K_pos.b_polarity_num, s=K_pos.retweet_count/5, c='g', edgecolor='g', label='K=Pos')\n",
    "#plt.scatter( K_neu.b_subjectivity_num, K_neu.b_polarity_num, s=K_neu.retweet_count/5, c='b', edgecolor='b', label='K=Neu')\n",
    "#plt.scatter( K_neg.b_p_pos, K_neg.b_p_neg, s=1, c='r', edgecolor='r', label='K=Neg')\n",
    "#plt.scatter( K_pos.b_p_pos, K_pos.b_p_neg, s=20, c='g', edgecolor='g', label='K=Pos')\n",
    "#plt.scatter( K_neu.b_p_pos, K_neu.b_p_neg, s=20, c='b', edgecolor='b', label='K=Neu')\n",
    "#plt.legend()\n",
    "\n",
    "df[['nb_p_pos']].hist(by=df['K_sentiment'], figsize=(15,8))\n"
   ]
  },
  {
   "cell_type": "code",
   "execution_count": null,
   "metadata": {
    "collapsed": true
   },
   "outputs": [],
   "source": []
  },
  {
   "cell_type": "code",
   "execution_count": 500,
   "metadata": {
    "collapsed": false
   },
   "outputs": [
    {
     "name": "stdout",
     "output_type": "stream",
     "text": [
      "47.9792147806 % agreement ( 2493 out of 5196 )\n",
      "<type 'numpy.ndarray'>\n",
      "vals= ['Neutral' 'Positive' 'Negative']\n",
      "  K_sentiment  Negative  Neutral  Positive\n",
      "0    Negative      1547      403      1208\n",
      "1     Neutral       310      216       521\n",
      "2    Positive       127      134       730\n",
      "done\n"
     ]
    }
   ],
   "source": [
    "# Is agreement with the Kaggle data better for tweets where the two TextBlob classifiers agree?\n",
    "\n",
    "agr = get_agreement(df[df['b_sentiment']==df['nb_sentiment']], 'K_sentiment', 'nb_sentiment')\n",
    "denom = df[df['b_sentiment']==df['nb_sentiment']].shape[0]\n",
    "print float(agr)*100/denom, \"% agreement (\", agr, \"out of\", denom, \")\"\n",
    "\n",
    "confusion_df = get_confusion_matrix(df[df['b_sentiment']==df['nb_sentiment']], 'K_sentiment', 'b_sentiment')\n",
    "print confusion_df\n",
    "print 'done'\n",
    "\n",
    "# Agreement is a bit better, but still poor."
   ]
  },
  {
   "cell_type": "code",
   "execution_count": 501,
   "metadata": {
    "collapsed": false
   },
   "outputs": [
    {
     "data": {
      "text/html": [
       "<div style=\"max-height:1000px;max-width:1500px;overflow:auto;\">\n",
       "<table border=\"1\" class=\"dataframe\">\n",
       "  <thead>\n",
       "    <tr style=\"text-align: right;\">\n",
       "      <th></th>\n",
       "      <th>ascii</th>\n",
       "      <th>text</th>\n",
       "      <th>K_sentiment</th>\n",
       "      <th>b_sentiment</th>\n",
       "      <th>nb_sentiment</th>\n",
       "    </tr>\n",
       "  </thead>\n",
       "  <tbody>\n",
       "    <tr>\n",
       "      <th>6</th>\n",
       "      <td>RT warriorwoman91 I liked her and was happy when I heard she was going to be the moderator. Not anymore. GOPDebate megynkelly</td>\n",
       "      <td>RT @warriorwoman91: I liked her and was happy when I heard she was going to be the moderator. Not anymore. #GOPDebate @megynkelly  https://…</td>\n",
       "      <td>Negative</td>\n",
       "      <td>Positive</td>\n",
       "      <td>Positive</td>\n",
       "    </tr>\n",
       "    <tr>\n",
       "      <th>12</th>\n",
       "      <td>Me reading my familys comments about how great the GOPDebate was</td>\n",
       "      <td>Me reading my family's comments about how great the #GOPDebate was http://t.co/gIaGjPygXZ</td>\n",
       "      <td>Negative</td>\n",
       "      <td>Positive</td>\n",
       "      <td>Positive</td>\n",
       "    </tr>\n",
       "    <tr>\n",
       "      <th>16</th>\n",
       "      <td>RT CarolCNN DonaldTrump under fire for comments about women PeterBeinart SL_Schaeffer IWF MyRkiger weigh in on GOPdebate</td>\n",
       "      <td>RT @CarolCNN: #DonaldTrump under fire for comments about women @PeterBeinart @SL_Schaeffer @IWF @@MyRkiger weigh in on #GOPdebate http://t.…</td>\n",
       "      <td>Negative</td>\n",
       "      <td>Neutral</td>\n",
       "      <td>Positive</td>\n",
       "    </tr>\n",
       "    <tr>\n",
       "      <th>19</th>\n",
       "      <td>RT PamelaGeller Huckabee Paying for transgender surgery for soldiers, sailors and airmen does not make our country safer Ha GOPDebate</td>\n",
       "      <td>RT @PamelaGeller: Huckabee: Paying for transgender surgery for soldiers, sailors and airmen does not make our country safer #Ha #GOPDebate</td>\n",
       "      <td>Negative</td>\n",
       "      <td>Neutral</td>\n",
       "      <td>Positive</td>\n",
       "    </tr>\n",
       "    <tr>\n",
       "      <th>24</th>\n",
       "      <td>RT MrPooni Fox News trying to convince us young Black Americans are more worried about ISIS than police terrorism GOPDebate</td>\n",
       "      <td>RT @MrPooni: Fox News trying to convince us young Black Americans are more worried about ISIS than police terrorism #GOPDebate http://t.co/…</td>\n",
       "      <td>Negative</td>\n",
       "      <td>Positive</td>\n",
       "      <td>Positive</td>\n",
       "    </tr>\n",
       "    <tr>\n",
       "      <th>29</th>\n",
       "      <td>RT HillaryClinton Watch the GOPdebate? Bet you feel like donating to a Democrat right about now.</td>\n",
       "      <td>RT @HillaryClinton: Watch the #GOPdebate? Bet you feel like donating to a Democrat right about now. http://t.co/pGlQCqQgOP http://t.co/QP1e…</td>\n",
       "      <td>Negative</td>\n",
       "      <td>Positive</td>\n",
       "      <td>Positive</td>\n",
       "    </tr>\n",
       "    <tr>\n",
       "      <th>35</th>\n",
       "      <td>RT AmyMek The Torched has been passed - .CandyCrowley is no longer the most Famous Political Assassin! Congratulations megynkelly, U Wi</td>\n",
       "      <td>RT @AmyMek: The Torched has been passed -&amp;gt;.@CandyCrowley is no longer the most Famous Political Assassin! Congratulations @megynkelly, U Wi…</td>\n",
       "      <td>Negative</td>\n",
       "      <td>Positive</td>\n",
       "      <td>Positive</td>\n",
       "    </tr>\n",
       "    <tr>\n",
       "      <th>38</th>\n",
       "      <td>RT ali After the Fox News GOPDebate, we primary voters are none the wiser on the policy plans these folks are putting forth. Journalism</td>\n",
       "      <td>RT @ali: After the Fox News #GOPDebate, we primary voters are none the wiser on the policy plans these folks are putting forth. Journalism …</td>\n",
       "      <td>Negative</td>\n",
       "      <td>Positive</td>\n",
       "      <td>Positive</td>\n",
       "    </tr>\n",
       "    <tr>\n",
       "      <th>40</th>\n",
       "      <td>RT mgell Trump is a cross between the shrug emoji and President Business from the Lego movie. GOPDebate</td>\n",
       "      <td>RT @mgell: Trump is a cross between the shrug emoji and President Business from the Lego movie. #GOPDebate</td>\n",
       "      <td>Negative</td>\n",
       "      <td>Neutral</td>\n",
       "      <td>Positive</td>\n",
       "    </tr>\n",
       "    <tr>\n",
       "      <th>41</th>\n",
       "      <td>RT JamelleMyBelle Meanwhile, in the White House...  GOPDebate</td>\n",
       "      <td>RT @JamelleMyBelle: Meanwhile, in the White House...  #GOPDebate http://t.co/nouUUt5hKq</td>\n",
       "      <td>Negative</td>\n",
       "      <td>Neutral</td>\n",
       "      <td>Neutral</td>\n",
       "    </tr>\n",
       "    <tr>\n",
       "      <th>54</th>\n",
       "      <td>RT ChuckNellis I wont defend FoxNews, they were FAR from fair OR balanced last night, but name calling is juvenile. GOPDebate</td>\n",
       "      <td>RT @ChuckNellis: I won't defend @FoxNews, they were FAR from fair OR balanced last night, but name calling is juvenile. #GOPDebate</td>\n",
       "      <td>Negative</td>\n",
       "      <td>Positive</td>\n",
       "      <td>Positive</td>\n",
       "    </tr>\n",
       "    <tr>\n",
       "      <th>57</th>\n",
       "      <td>RT factcheckdotorg .JebBush said he cut FL taxes by $19B. But that includes cuts in estate taxes mandated by federal law. GOPDebate. ht</td>\n",
       "      <td>RT @factcheckdotorg: .@JebBush said he cut FL taxes by $19B. But that includes cuts in estate taxes mandated by federal law. #GOPDebate. ht…</td>\n",
       "      <td>Negative</td>\n",
       "      <td>Neutral</td>\n",
       "      <td>Positive</td>\n",
       "    </tr>\n",
       "    <tr>\n",
       "      <th>58</th>\n",
       "      <td>RT mydaughtersarmy Dear GOP, If you want to stop abortions...   GOPDebate</td>\n",
       "      <td>RT @mydaughtersarmy: Dear GOP,\\nIf you want to stop abortions... \\n\\n#GOPDebate \\nhttp://t.co/RbL1t4iPx6</td>\n",
       "      <td>Negative</td>\n",
       "      <td>Neutral</td>\n",
       "      <td>Positive</td>\n",
       "    </tr>\n",
       "    <tr>\n",
       "      <th>60</th>\n",
       "      <td>RT P0TUS GOPDebate closing statements</td>\n",
       "      <td>RT @P0TUS: #GOPDebate closing statements: http://t.co/S15NLilLso</td>\n",
       "      <td>Negative</td>\n",
       "      <td>Neutral</td>\n",
       "      <td>Positive</td>\n",
       "    </tr>\n",
       "    <tr>\n",
       "      <th>70</th>\n",
       "      <td>Fox News Had Its Own GOPDebate Agenda Promote Carly never mention fired from HP Fiorina,   run Trump out of race</td>\n",
       "      <td>Fox News Had Its Own #GOPDebate Agenda: Promote Carly \"never mention fired from HP\" Fiorina, &amp;amp; run Trump out of race http://t.co/9k1eujdFo7</td>\n",
       "      <td>Negative</td>\n",
       "      <td>Positive</td>\n",
       "      <td>Positive</td>\n",
       "    </tr>\n",
       "    <tr>\n",
       "      <th>71</th>\n",
       "      <td>RT HlLLARY Oh, one more thing. Did anyone hear anything about affordable child care for working families last night in the GOPDebate ? I</td>\n",
       "      <td>RT @HlLLARY: Oh, one more thing. Did anyone hear anything about affordable child care for working families last night in the #GOPDebate ? I…</td>\n",
       "      <td>Negative</td>\n",
       "      <td>Positive</td>\n",
       "      <td>Positive</td>\n",
       "    </tr>\n",
       "    <tr>\n",
       "      <th>74</th>\n",
       "      <td>The Countrys going to hell and Megyn Kelly on FoxNews is attacking Trump for a war on women? GOPDebate</td>\n",
       "      <td>The Country's going to hell and Megyn Kelly on #FoxNews is attacking Trump for a \"war on women?\" #GOPDebate</td>\n",
       "      <td>Negative</td>\n",
       "      <td>Neutral</td>\n",
       "      <td>Neutral</td>\n",
       "    </tr>\n",
       "    <tr>\n",
       "      <th>76</th>\n",
       "      <td>RT SnarkyDemo DonaldTrump said hes not politically correct.  Which, of course, is Trumpspeak for Lets face it, Im huge asshole.</td>\n",
       "      <td>RT @SnarkyDemo: #DonaldTrump said he’s not “politically correct.”  Which, of course, is Trumpspeak for “Let’s face it, I’m huge asshole.” #…</td>\n",
       "      <td>Negative</td>\n",
       "      <td>Positive</td>\n",
       "      <td>Positive</td>\n",
       "    </tr>\n",
       "    <tr>\n",
       "      <th>77</th>\n",
       "      <td>RT Bipartisanism A message to the GOPDebate candidates</td>\n",
       "      <td>RT @Bipartisanism: A message to the #GOPDebate candidates: http://t.co/WFK5CmVgiN</td>\n",
       "      <td>Negative</td>\n",
       "      <td>Neutral</td>\n",
       "      <td>Neutral</td>\n",
       "    </tr>\n",
       "    <tr>\n",
       "      <th>86</th>\n",
       "      <td>Theyre all Todd Akin now How the Planned Parenthood sting backfired on Republicans GOPDebate StandwithPP</td>\n",
       "      <td>They’re all Todd Akin now: How the Planned Parenthood sting backfired on Republicans #GOPDebate #StandwithPP \\nhttp://t.co/ekXPfKtHQn</td>\n",
       "      <td>Negative</td>\n",
       "      <td>Neutral</td>\n",
       "      <td>Neutral</td>\n",
       "    </tr>\n",
       "    <tr>\n",
       "      <th>97</th>\n",
       "      <td>RT zellieimani What people saw in person vs what we saw on tv. GOPDebate</td>\n",
       "      <td>RT @zellieimani: What people saw in person vs what we saw on tv. #GOPDebate http://t.co/QlGsXRH5Hw</td>\n",
       "      <td>Negative</td>\n",
       "      <td>Neutral</td>\n",
       "      <td>Neutral</td>\n",
       "    </tr>\n",
       "    <tr>\n",
       "      <th>98</th>\n",
       "      <td>RT TheBaxterBean Marco Rubio Told To His Face Hes Candidate Of Yesterday For His Anti-Gay Bigotry   GOPDebate ht</td>\n",
       "      <td>RT @TheBaxterBean: Marco Rubio Told To His Face He's 'Candidate Of Yesterday' For His Anti-Gay Bigotry http://t.co/a4EiuETTLf #GOPDebate ht…</td>\n",
       "      <td>Negative</td>\n",
       "      <td>Neutral</td>\n",
       "      <td>Positive</td>\n",
       "    </tr>\n",
       "    <tr>\n",
       "      <th>111</th>\n",
       "      <td>RT SnarkyDemo What did the GOPDebate teach us about a future President Trump?  America probably wont be safe, except if were attacked</td>\n",
       "      <td>RT @SnarkyDemo: What did the #GOPDebate teach us about a future President Trump?  America probably won’t be safe, except if we’re attacked …</td>\n",
       "      <td>Negative</td>\n",
       "      <td>Positive</td>\n",
       "      <td>Positive</td>\n",
       "    </tr>\n",
       "    <tr>\n",
       "      <th>119</th>\n",
       "      <td>RT palmaceiahome1 Caller on the Rush Limbaugh showI have lost all respect for Fox News. FoxNews GOPDebate</td>\n",
       "      <td>RT @palmaceiahome1: Caller on the Rush Limbaugh show:\"I have lost all respect for Fox News.\" #FoxNews #GOPDebate</td>\n",
       "      <td>Negative</td>\n",
       "      <td>Neutral</td>\n",
       "      <td>Positive</td>\n",
       "    </tr>\n",
       "    <tr>\n",
       "      <th>120</th>\n",
       "      <td>RT realDonaldTrump stinger_inc realDonaldTrump  megynkellys behaviour at the GOPDebate was astonishingly biased.</td>\n",
       "      <td>RT @realDonaldTrump: \"@stinger_inc: @realDonaldTrump  @megynkelly's behaviour at the #GOPDebate was astonishingly biased.\"</td>\n",
       "      <td>Negative</td>\n",
       "      <td>Positive</td>\n",
       "      <td>Positive</td>\n",
       "    </tr>\n",
       "    <tr>\n",
       "      <th>125</th>\n",
       "      <td>RT AmyMek We all owe realDonaldTrump a huge thank you 4 exposing to the worldmegynkelly, Chris Wallace,   FrankLuntz are true Rhinos!</td>\n",
       "      <td>RT @AmyMek: We all owe @realDonaldTrump a huge thank you 4 exposing to the world👉@megynkelly, Chris Wallace, &amp;amp; @FrankLuntz are true Rhinos!…</td>\n",
       "      <td>Negative</td>\n",
       "      <td>Positive</td>\n",
       "      <td>Positive</td>\n",
       "    </tr>\n",
       "    <tr>\n",
       "      <th>129</th>\n",
       "      <td>RT FrankConniff Fox News GOPDebate interviewer to candidates Whats your take on these GOP talking points Im feeding you?</td>\n",
       "      <td>RT @FrankConniff: Fox News #GOPDebate interviewer to candidates: \"What's your take on these GOP talking points I'm feeding you?\"</td>\n",
       "      <td>Negative</td>\n",
       "      <td>Neutral</td>\n",
       "      <td>Positive</td>\n",
       "    </tr>\n",
       "    <tr>\n",
       "      <th>136</th>\n",
       "      <td>RT edstetzer Btw... when you mix politics and religion, you get politics. GOPDebate</td>\n",
       "      <td>RT @edstetzer: Btw... when you mix politics and religion, you get politics. #GOPDebate</td>\n",
       "      <td>Negative</td>\n",
       "      <td>Neutral</td>\n",
       "      <td>Positive</td>\n",
       "    </tr>\n",
       "    <tr>\n",
       "      <th>142</th>\n",
       "      <td>Trump gloating abt buying GOPDem pols   doing his bidding IS my 2000s Billionaire caricature MyaCash GOPDebate</td>\n",
       "      <td>Trump gloating abt buying GOP+Dem pols &amp;amp;them doing his bidding IS my 2000s Billionaire caricature MyaCash #GOPDebate https://t.co/5spmU3csIc</td>\n",
       "      <td>Negative</td>\n",
       "      <td>Neutral</td>\n",
       "      <td>Positive</td>\n",
       "    </tr>\n",
       "    <tr>\n",
       "      <th>144</th>\n",
       "      <td>RT Daenerys Listening to the GOPDebate like</td>\n",
       "      <td>RT @Daenerys: Listening to the #GOPDebate like http://t.co/3JrCuQdAFu</td>\n",
       "      <td>Negative</td>\n",
       "      <td>Neutral</td>\n",
       "      <td>Positive</td>\n",
       "    </tr>\n",
       "    <tr>\n",
       "      <th>...</th>\n",
       "      <td>...</td>\n",
       "      <td>...</td>\n",
       "      <td>...</td>\n",
       "      <td>...</td>\n",
       "      <td>...</td>\n",
       "    </tr>\n",
       "    <tr>\n",
       "      <th>360</th>\n",
       "      <td>I wont defend FoxNews, they were FAR from fair OR balanced last night, but name calling is juvenile. GOPDebate</td>\n",
       "      <td>I won't defend @FoxNews, they were FAR from fair OR balanced last night, but name calling is juvenile. #GOPDebate</td>\n",
       "      <td>Negative</td>\n",
       "      <td>Positive</td>\n",
       "      <td>Positive</td>\n",
       "    </tr>\n",
       "    <tr>\n",
       "      <th>371</th>\n",
       "      <td>megynkelly GOPDebate Kelly is no role model doesnt speak for me or my prof friends Rosie? Now a real woman CarlyFiorina Kelly is a poser</td>\n",
       "      <td>@megynkelly #GOPDebate Kelly is no role model doesn't speak for me or my prof friends Rosie? Now a real woman @CarlyFiorina Kelly is a poser</td>\n",
       "      <td>Negative</td>\n",
       "      <td>Positive</td>\n",
       "      <td>Positive</td>\n",
       "    </tr>\n",
       "    <tr>\n",
       "      <th>373</th>\n",
       "      <td>RT funnyordie This feels like FOX News tried to be the cool parents that let their kids have a party   now the house is on fire. GOPDeba</td>\n",
       "      <td>RT @funnyordie: This feels like FOX News tried to be the cool parents that let their kids have a party &amp;amp; now the house is on fire. #GOPDeba…</td>\n",
       "      <td>Negative</td>\n",
       "      <td>Positive</td>\n",
       "      <td>Neutral</td>\n",
       "    </tr>\n",
       "    <tr>\n",
       "      <th>376</th>\n",
       "      <td>RT CrissGhoul YOU ARE NOT PRO LIFE. YOU ARE PRO CONTROL. YOU ARE PRO RELIGION. YOU ARE PRO YOU.  THIS IS NEVER ABOUT THE MOTHER. GOPDeba</td>\n",
       "      <td>RT @CrissGhoul: YOU ARE NOT PRO LIFE. YOU ARE PRO CONTROL. YOU ARE PRO RELIGION. YOU ARE PRO YOU.  THIS IS NEVER ABOUT THE MOTHER. #GOPDeba…</td>\n",
       "      <td>Negative</td>\n",
       "      <td>Neutral</td>\n",
       "      <td>Positive</td>\n",
       "    </tr>\n",
       "    <tr>\n",
       "      <th>383</th>\n",
       "      <td>The anti- CarlyFiorina unit of the Clinton Personal Destruction Force is now working 24/7, Im sure. GOPDebate</td>\n",
       "      <td>The anti- @CarlyFiorina unit of the #Clinton Personal Destruction Force is now working 24/7, I'm sure. #GOPDebate https://t.co/p0dT5s5TIY</td>\n",
       "      <td>Negative</td>\n",
       "      <td>Positive</td>\n",
       "      <td>Positive</td>\n",
       "    </tr>\n",
       "    <tr>\n",
       "      <th>387</th>\n",
       "      <td>RT NewsWriter2 So we have Americans getting beheaded overseas and megynkelly is worried whether realDonaldTrump calls Rosie ODonnell f</td>\n",
       "      <td>RT @NewsWriter2: So we have Americans getting beheaded overseas and @megynkelly is worried whether @realDonaldTrump calls Rosie O'Donnell f…</td>\n",
       "      <td>Negative</td>\n",
       "      <td>Neutral</td>\n",
       "      <td>Neutral</td>\n",
       "    </tr>\n",
       "    <tr>\n",
       "      <th>388</th>\n",
       "      <td>GOPDebate REAL AMERICAN IDOL ELECTIONS AS AUDITIONS Whose Consent Counts   How Decisions Are Made...</td>\n",
       "      <td>#GOPDebate REAL “AMERICAN IDOL”: ELECTIONS AS AUDITIONS: Whose Consent Counts &amp;amp; How Decisions Are Made... http://t.co/bLeoBY7r7N</td>\n",
       "      <td>Negative</td>\n",
       "      <td>Neutral</td>\n",
       "      <td>Positive</td>\n",
       "    </tr>\n",
       "    <tr>\n",
       "      <th>393</th>\n",
       "      <td>RT rachelmartinart I wonder if the GOPDebate will address actual solutions for climate change and clean energy. DebateWithBernie</td>\n",
       "      <td>RT @rachelmartinart: I wonder if the #GOPDebate will address actual solutions for climate change and clean energy. #DebateWithBernie</td>\n",
       "      <td>Negative</td>\n",
       "      <td>Positive</td>\n",
       "      <td>Positive</td>\n",
       "    </tr>\n",
       "    <tr>\n",
       "      <th>394</th>\n",
       "      <td>RT vivigold197 realDonaldTrump misogynist, ignorant, xenophobic and greedy another proof that money does not buy class. GOPDebate GO</td>\n",
       "      <td>RT @vivigold197: @realDonaldTrump: misogynist, ignorant, xenophobic and greedy: another proof that money does not buy class. #GOPDebate #GO…</td>\n",
       "      <td>Negative</td>\n",
       "      <td>Neutral</td>\n",
       "      <td>Positive</td>\n",
       "    </tr>\n",
       "    <tr>\n",
       "      <th>403</th>\n",
       "      <td>Keep religion out of politics! GOPDebate</td>\n",
       "      <td>Keep religion out of politics! #GOPDebate</td>\n",
       "      <td>Negative</td>\n",
       "      <td>Neutral</td>\n",
       "      <td>Positive</td>\n",
       "    </tr>\n",
       "    <tr>\n",
       "      <th>408</th>\n",
       "      <td>RT Ali_Davis Tonights GOPDebate was an important reminder that these guys think of women as carrying cases for fetuses.</td>\n",
       "      <td>RT @Ali_Davis: Tonight's #GOPDebate was an important reminder that these guys think of women as carrying cases for fetuses.</td>\n",
       "      <td>Negative</td>\n",
       "      <td>Positive</td>\n",
       "      <td>Positive</td>\n",
       "    </tr>\n",
       "    <tr>\n",
       "      <th>419</th>\n",
       "      <td>RT TheBaxterBean Fact-Checkers Proved Scott Walker Literally Lies More Often Than He Tells The Truth   GOPDebate ht</td>\n",
       "      <td>RT @TheBaxterBean: Fact-Checkers Proved Scott Walker Literally Lies More Often Than He Tells The Truth http://t.co/KeOeBNRWGU #GOPDebate ht…</td>\n",
       "      <td>Negative</td>\n",
       "      <td>Positive</td>\n",
       "      <td>Positive</td>\n",
       "    </tr>\n",
       "    <tr>\n",
       "      <th>422</th>\n",
       "      <td>RT BRios82 These clowns didnt even tackle Climate change. They didnt mention Inequality at all. Are you surprised? GOPDebate</td>\n",
       "      <td>RT @BRios82: These clowns didn't even tackle Climate change. They didn't mention Inequality at all. Are you surprised? #GOPDebate http://t.…</td>\n",
       "      <td>Negative</td>\n",
       "      <td>Positive</td>\n",
       "      <td>Positive</td>\n",
       "    </tr>\n",
       "    <tr>\n",
       "      <th>423</th>\n",
       "      <td>RT pattonoswalt Are they going to ask Lenny Kravitzs penis ONE question? This is very disrespectful. GOPDebate</td>\n",
       "      <td>RT @pattonoswalt: Are they going to ask Lenny Kravitz's penis ONE question? This is very disrespectful. #GOPDebate</td>\n",
       "      <td>Negative</td>\n",
       "      <td>Positive</td>\n",
       "      <td>Neutral</td>\n",
       "    </tr>\n",
       "    <tr>\n",
       "      <th>430</th>\n",
       "      <td>RT rebleber Not mentioned in the GOPdebate Voting rights Climate change Gun violence Police shootings Student debt Inequality</td>\n",
       "      <td>RT @rebleber: Not mentioned in the #GOPdebate:\\nVoting rights\\nClimate change\\nGun violence\\nPolice shootings\\nStudent debt\\nInequality</td>\n",
       "      <td>Negative</td>\n",
       "      <td>Neutral</td>\n",
       "      <td>Positive</td>\n",
       "    </tr>\n",
       "    <tr>\n",
       "      <th>437</th>\n",
       "      <td>Favorite Jeb line taking on the teachers unions, and beating them sure that empowers kids disenfranchise the ones who teach em GOPDebate</td>\n",
       "      <td>Favorite Jeb line \"taking on the teacher's unions, and beating them\" sure that empowers kids disenfranchise the ones who teach em #GOPDebate</td>\n",
       "      <td>Negative</td>\n",
       "      <td>Positive</td>\n",
       "      <td>Positive</td>\n",
       "    </tr>\n",
       "    <tr>\n",
       "      <th>452</th>\n",
       "      <td>Chris Christie fundamentally misunderstands the 4th amendment   got owned by RandPaul over NSA   GOPDebate</td>\n",
       "      <td>Chris Christie fundamentally misunderstands the 4th amendment &amp;amp; got owned by @RandPaul over NSA: http://t.co/XawzzRHVFi #GOPDebate</td>\n",
       "      <td>Negative</td>\n",
       "      <td>Neutral</td>\n",
       "      <td>Positive</td>\n",
       "    </tr>\n",
       "    <tr>\n",
       "      <th>453</th>\n",
       "      <td>RT cmclymer Fun Fact in this party of super patriots, not a single candidate on stage has served a day in the military.  GOPDebate</td>\n",
       "      <td>RT @cmclymer: Fun Fact: in this party of super patriots, not a single candidate on stage has served a day in the military.\\n\\n#GOPDebate</td>\n",
       "      <td>Negative</td>\n",
       "      <td>Positive</td>\n",
       "      <td>Positive</td>\n",
       "    </tr>\n",
       "    <tr>\n",
       "      <th>463</th>\n",
       "      <td>RT HRC .JohnKasich said hed love his daughters if they were gay, but his voting record says otherwise GOPDebate</td>\n",
       "      <td>RT @HRC: .@JohnKasich said he’d love his daughters if they were gay, but his voting record says otherwise #GOPDebate http://t.co/qWNQMbLZ5d</td>\n",
       "      <td>Negative</td>\n",
       "      <td>Positive</td>\n",
       "      <td>Neutral</td>\n",
       "    </tr>\n",
       "    <tr>\n",
       "      <th>471</th>\n",
       "      <td>RT MilesOrionFeld Are you not entertained?!?!?! Then Trump throws a severed head into the crowd. GOPDebate</td>\n",
       "      <td>RT @MilesOrionFeld: \"Are you not entertained?!?!?!\" Then #Trump throws a severed head into the crowd. #GOPDebate</td>\n",
       "      <td>Negative</td>\n",
       "      <td>Neutral</td>\n",
       "      <td>Neutral</td>\n",
       "    </tr>\n",
       "    <tr>\n",
       "      <th>473</th>\n",
       "      <td>RT ThatChrisGore Im not really sure about President, but Ted Cruz would make an excellent Marvel villain. GOPDebate TedCruz Marvel</td>\n",
       "      <td>RT @ThatChrisGore: I'm not really sure about President, but Ted Cruz would make an excellent Marvel villain. #GOPDebate #TedCruz #Marvel</td>\n",
       "      <td>Negative</td>\n",
       "      <td>Positive</td>\n",
       "      <td>Positive</td>\n",
       "    </tr>\n",
       "    <tr>\n",
       "      <th>474</th>\n",
       "      <td>RT zellieimani During debates on terrorism, dont expect anyone to bring up white supremacist organizations engaging in terrorism. KKKor</td>\n",
       "      <td>RT @zellieimani: During debates on terrorism, don't expect anyone to bring up white supremacist organizations engaging in terrorism. #KKKor…</td>\n",
       "      <td>Negative</td>\n",
       "      <td>Positive</td>\n",
       "      <td>Positive</td>\n",
       "    </tr>\n",
       "    <tr>\n",
       "      <th>475</th>\n",
       "      <td>TheDailyShow Jon Stewart can feel comfortable w/retirement as GOPDebate solved all problemspersonal   scientific</td>\n",
       "      <td>@TheDailyShow Jon Stewart can feel comfortable w/retirement as #GOPDebate solved all problems(personal &amp;amp; scientific) https://t.co/voVjmTwu5J</td>\n",
       "      <td>Negative</td>\n",
       "      <td>Positive</td>\n",
       "      <td>Positive</td>\n",
       "    </tr>\n",
       "    <tr>\n",
       "      <th>481</th>\n",
       "      <td>GOPDebate so which presidential candidate stuck their thing into the presidential electric sharpener</td>\n",
       "      <td>#GOPDebate so which presidential candidate stuck their thing into the presidential electric sharpener</td>\n",
       "      <td>Negative</td>\n",
       "      <td>Neutral</td>\n",
       "      <td>Positive</td>\n",
       "    </tr>\n",
       "    <tr>\n",
       "      <th>488</th>\n",
       "      <td>Jeb Bush I defunded Planned Parenthood  ....he is proud that he denied thousands of women access to life saving healthcare... GOPDebate</td>\n",
       "      <td>Jeb Bush: \"I defunded Planned Parenthood\"\\n\\n....he is proud that he denied thousands of women access to life saving healthcare...\\n#GOPDebate</td>\n",
       "      <td>Negative</td>\n",
       "      <td>Positive</td>\n",
       "      <td>Positive</td>\n",
       "    </tr>\n",
       "    <tr>\n",
       "      <th>492</th>\n",
       "      <td>RT pattonoswalt That concludes our debate! Please welcome the Koch Brothers who will choose an ideological broodmare from our whore-stab</td>\n",
       "      <td>RT @pattonoswalt: \"That concludes our debate! Please welcome the Koch Brothers who will choose an ideological broodmare from our whore-stab…</td>\n",
       "      <td>Negative</td>\n",
       "      <td>Positive</td>\n",
       "      <td>Positive</td>\n",
       "    </tr>\n",
       "    <tr>\n",
       "      <th>499</th>\n",
       "      <td>RT amaraconda I SWEAR TO GOD IF ANOTHER CIS WHITE MAN SPEAKS ON ABORTION LIKE THEY KNOW WHAT ITS LIKE BEING PREGNANT......... GOPDebate</td>\n",
       "      <td>RT @amaraconda: I SWEAR TO GOD IF ANOTHER CIS WHITE MAN SPEAKS ON ABORTION LIKE THEY KNOW WHAT ITS LIKE BEING PREGNANT......... #GOPDebate</td>\n",
       "      <td>Negative</td>\n",
       "      <td>Positive</td>\n",
       "      <td>Neutral</td>\n",
       "    </tr>\n",
       "    <tr>\n",
       "      <th>504</th>\n",
       "      <td>RT ethicistforhire Ten rich narcissists spouting nihilistic applause lines is not a debate. It is a Zeitgeist GOPDebate</td>\n",
       "      <td>RT @ethicistforhire: Ten rich narcissists spouting nihilistic applause lines is not a debate. It is a Zeitgeist… #GOPDebate</td>\n",
       "      <td>Negative</td>\n",
       "      <td>Positive</td>\n",
       "      <td>Positive</td>\n",
       "    </tr>\n",
       "    <tr>\n",
       "      <th>511</th>\n",
       "      <td>Why is God   religion important in an election? Religion shouldnt play a part in the decision making in your country. GOPDebate</td>\n",
       "      <td>Why is God &amp;amp; religion important in an election? Religion shouldn't play a part in the decision making in your country. #GOPDebate</td>\n",
       "      <td>Negative</td>\n",
       "      <td>Positive</td>\n",
       "      <td>Positive</td>\n",
       "    </tr>\n",
       "    <tr>\n",
       "      <th>513</th>\n",
       "      <td>RT goddessjaz The discussion of racist police violence was over before I finished typing that tweet. GOPdebate KKKorGOP</td>\n",
       "      <td>RT @goddessjaz: The discussion of racist police violence was over before I finished typing that tweet. #GOPdebate #KKKorGOP</td>\n",
       "      <td>Negative</td>\n",
       "      <td>Neutral</td>\n",
       "      <td>Positive</td>\n",
       "    </tr>\n",
       "  </tbody>\n",
       "</table>\n",
       "<p>100 rows × 5 columns</p>\n",
       "</div>"
      ],
      "text/plain": [
       "                                                                                                                                        ascii  \\\n",
       "6            RT warriorwoman91 I liked her and was happy when I heard she was going to be the moderator. Not anymore. GOPDebate megynkelly      \n",
       "12                                                                         Me reading my familys comments about how great the GOPDebate was     \n",
       "16                 RT CarolCNN DonaldTrump under fire for comments about women PeterBeinart SL_Schaeffer IWF MyRkiger weigh in on GOPdebate     \n",
       "19      RT PamelaGeller Huckabee Paying for transgender surgery for soldiers, sailors and airmen does not make our country safer Ha GOPDebate   \n",
       "24              RT MrPooni Fox News trying to convince us young Black Americans are more worried about ISIS than police terrorism GOPDebate     \n",
       "29                                       RT HillaryClinton Watch the GOPdebate? Bet you feel like donating to a Democrat right about now.       \n",
       "35    RT AmyMek The Torched has been passed - .CandyCrowley is no longer the most Famous Political Assassin! Congratulations megynkelly, U Wi   \n",
       "38   RT ali After the Fox News GOPDebate, we primary voters are none the wiser on the policy plans these folks are putting forth. Journalism    \n",
       "40                                    RT mgell Trump is a cross between the shrug emoji and President Business from the Lego movie. GOPDebate   \n",
       "41                                                                            RT JamelleMyBelle Meanwhile, in the White House...  GOPDebate     \n",
       "54              RT ChuckNellis I wont defend FoxNews, they were FAR from fair OR balanced last night, but name calling is juvenile. GOPDebate   \n",
       "57    RT factcheckdotorg .JebBush said he cut FL taxes by $19B. But that includes cuts in estate taxes mandated by federal law. GOPDebate. ht   \n",
       "58                                                               RT mydaughtersarmy Dear GOP, If you want to stop abortions...   GOPDebate      \n",
       "60                                                                                                    RT P0TUS GOPDebate closing statements     \n",
       "70                         Fox News Had Its Own GOPDebate Agenda Promote Carly never mention fired from HP Fiorina,   run Trump out of race     \n",
       "71   RT HlLLARY Oh, one more thing. Did anyone hear anything about affordable child care for working families last night in the GOPDebate ? I   \n",
       "74                                     The Countrys going to hell and Megyn Kelly on FoxNews is attacking Trump for a war on women? GOPDebate   \n",
       "76           RT SnarkyDemo DonaldTrump said hes not politically correct.  Which, of course, is Trumpspeak for Lets face it, Im huge asshole.    \n",
       "77                                                                                   RT Bipartisanism A message to the GOPDebate candidates     \n",
       "86                                Theyre all Todd Akin now How the Planned Parenthood sting backfired on Republicans GOPDebate StandwithPP      \n",
       "97                                                                 RT zellieimani What people saw in person vs what we saw on tv. GOPDebate     \n",
       "98                           RT TheBaxterBean Marco Rubio Told To His Face Hes Candidate Of Yesterday For His Anti-Gay Bigotry   GOPDebate ht   \n",
       "111    RT SnarkyDemo What did the GOPDebate teach us about a future President Trump?  America probably wont be safe, except if were attacked    \n",
       "119                                 RT palmaceiahome1 Caller on the Rush Limbaugh showI have lost all respect for Fox News. FoxNews GOPDebate   \n",
       "120                          RT realDonaldTrump stinger_inc realDonaldTrump  megynkellys behaviour at the GOPDebate was astonishingly biased.   \n",
       "125     RT AmyMek We all owe realDonaldTrump a huge thank you 4 exposing to the worldmegynkelly, Chris Wallace,   FrankLuntz are true Rhinos!   \n",
       "129                  RT FrankConniff Fox News GOPDebate interviewer to candidates Whats your take on these GOP talking points Im feeding you?   \n",
       "136                                                       RT edstetzer Btw... when you mix politics and religion, you get politics. GOPDebate   \n",
       "142                          Trump gloating abt buying GOPDem pols   doing his bidding IS my 2000s Billionaire caricature MyaCash GOPDebate     \n",
       "144                                                                                             RT Daenerys Listening to the GOPDebate like     \n",
       "..                                                                                                                                        ...   \n",
       "360                            I wont defend FoxNews, they were FAR from fair OR balanced last night, but name calling is juvenile. GOPDebate   \n",
       "371  megynkelly GOPDebate Kelly is no role model doesnt speak for me or my prof friends Rosie? Now a real woman CarlyFiorina Kelly is a poser   \n",
       "373  RT funnyordie This feels like FOX News tried to be the cool parents that let their kids have a party   now the house is on fire. GOPDeba   \n",
       "376  RT CrissGhoul YOU ARE NOT PRO LIFE. YOU ARE PRO CONTROL. YOU ARE PRO RELIGION. YOU ARE PRO YOU.  THIS IS NEVER ABOUT THE MOTHER. GOPDeba   \n",
       "383                           The anti- CarlyFiorina unit of the Clinton Personal Destruction Force is now working 24/7, Im sure. GOPDebate     \n",
       "387    RT NewsWriter2 So we have Americans getting beheaded overseas and megynkelly is worried whether realDonaldTrump calls Rosie ODonnell f   \n",
       "388                                    GOPDebate REAL AMERICAN IDOL ELECTIONS AS AUDITIONS Whose Consent Counts   How Decisions Are Made...     \n",
       "393          RT rachelmartinart I wonder if the GOPDebate will address actual solutions for climate change and clean energy. DebateWithBernie   \n",
       "394      RT vivigold197 realDonaldTrump misogynist, ignorant, xenophobic and greedy another proof that money does not buy class. GOPDebate GO   \n",
       "403                                                                                                  Keep religion out of politics! GOPDebate   \n",
       "408                   RT Ali_Davis Tonights GOPDebate was an important reminder that these guys think of women as carrying cases for fetuses.   \n",
       "419                       RT TheBaxterBean Fact-Checkers Proved Scott Walker Literally Lies More Often Than He Tells The Truth   GOPDebate ht   \n",
       "422            RT BRios82 These clowns didnt even tackle Climate change. They didnt mention Inequality at all. Are you surprised? GOPDebate     \n",
       "423                            RT pattonoswalt Are they going to ask Lenny Kravitzs penis ONE question? This is very disrespectful. GOPDebate   \n",
       "430             RT rebleber Not mentioned in the GOPdebate Voting rights Climate change Gun violence Police shootings Student debt Inequality   \n",
       "437  Favorite Jeb line taking on the teachers unions, and beating them sure that empowers kids disenfranchise the ones who teach em GOPDebate   \n",
       "452                                Chris Christie fundamentally misunderstands the 4th amendment   got owned by RandPaul over NSA   GOPDebate   \n",
       "453        RT cmclymer Fun Fact in this party of super patriots, not a single candidate on stage has served a day in the military.  GOPDebate   \n",
       "463                         RT HRC .JohnKasich said hed love his daughters if they were gay, but his voting record says otherwise GOPDebate     \n",
       "471                                RT MilesOrionFeld Are you not entertained?!?!?! Then Trump throws a severed head into the crowd. GOPDebate   \n",
       "473        RT ThatChrisGore Im not really sure about President, but Ted Cruz would make an excellent Marvel villain. GOPDebate TedCruz Marvel   \n",
       "474   RT zellieimani During debates on terrorism, dont expect anyone to bring up white supremacist organizations engaging in terrorism. KKKor   \n",
       "475                        TheDailyShow Jon Stewart can feel comfortable w/retirement as GOPDebate solved all problemspersonal   scientific     \n",
       "481                                      GOPDebate so which presidential candidate stuck their thing into the presidential electric sharpener   \n",
       "488   Jeb Bush I defunded Planned Parenthood  ....he is proud that he denied thousands of women access to life saving healthcare... GOPDebate   \n",
       "492  RT pattonoswalt That concludes our debate! Please welcome the Koch Brothers who will choose an ideological broodmare from our whore-stab   \n",
       "499   RT amaraconda I SWEAR TO GOD IF ANOTHER CIS WHITE MAN SPEAKS ON ABORTION LIKE THEY KNOW WHAT ITS LIKE BEING PREGNANT......... GOPDebate   \n",
       "504                   RT ethicistforhire Ten rich narcissists spouting nihilistic applause lines is not a debate. It is a Zeitgeist GOPDebate   \n",
       "511           Why is God   religion important in an election? Religion shouldnt play a part in the decision making in your country. GOPDebate   \n",
       "513                   RT goddessjaz The discussion of racist police violence was over before I finished typing that tweet. GOPdebate KKKorGOP   \n",
       "\n",
       "                                                                                                                                                  text  \\\n",
       "6         RT @warriorwoman91: I liked her and was happy when I heard she was going to be the moderator. Not anymore. #GOPDebate @megynkelly  https://…   \n",
       "12                                                           Me reading my family's comments about how great the #GOPDebate was http://t.co/gIaGjPygXZ   \n",
       "16        RT @CarolCNN: #DonaldTrump under fire for comments about women @PeterBeinart @SL_Schaeffer @IWF @@MyRkiger weigh in on #GOPdebate http://t.…   \n",
       "19          RT @PamelaGeller: Huckabee: Paying for transgender surgery for soldiers, sailors and airmen does not make our country safer #Ha #GOPDebate   \n",
       "24        RT @MrPooni: Fox News trying to convince us young Black Americans are more worried about ISIS than police terrorism #GOPDebate http://t.co/…   \n",
       "29        RT @HillaryClinton: Watch the #GOPdebate? Bet you feel like donating to a Democrat right about now. http://t.co/pGlQCqQgOP http://t.co/QP1e…   \n",
       "35     RT @AmyMek: The Torched has been passed -&gt;.@CandyCrowley is no longer the most Famous Political Assassin! Congratulations @megynkelly, U Wi…   \n",
       "38        RT @ali: After the Fox News #GOPDebate, we primary voters are none the wiser on the policy plans these folks are putting forth. Journalism …   \n",
       "40                                          RT @mgell: Trump is a cross between the shrug emoji and President Business from the Lego movie. #GOPDebate   \n",
       "41                                                             RT @JamelleMyBelle: Meanwhile, in the White House...  #GOPDebate http://t.co/nouUUt5hKq   \n",
       "54                  RT @ChuckNellis: I won't defend @FoxNews, they were FAR from fair OR balanced last night, but name calling is juvenile. #GOPDebate   \n",
       "57        RT @factcheckdotorg: .@JebBush said he cut FL taxes by $19B. But that includes cuts in estate taxes mandated by federal law. #GOPDebate. ht…   \n",
       "58                                            RT @mydaughtersarmy: Dear GOP,\\nIf you want to stop abortions... \\n\\n#GOPDebate \\nhttp://t.co/RbL1t4iPx6   \n",
       "60                                                                                    RT @P0TUS: #GOPDebate closing statements: http://t.co/S15NLilLso   \n",
       "70     Fox News Had Its Own #GOPDebate Agenda: Promote Carly \"never mention fired from HP\" Fiorina, &amp; run Trump out of race http://t.co/9k1eujdFo7   \n",
       "71        RT @HlLLARY: Oh, one more thing. Did anyone hear anything about affordable child care for working families last night in the #GOPDebate ? I…   \n",
       "74                                         The Country's going to hell and Megyn Kelly on #FoxNews is attacking Trump for a \"war on women?\" #GOPDebate   \n",
       "76        RT @SnarkyDemo: #DonaldTrump said he’s not “politically correct.”  Which, of course, is Trumpspeak for “Let’s face it, I’m huge asshole.” #…   \n",
       "77                                                                   RT @Bipartisanism: A message to the #GOPDebate candidates: http://t.co/WFK5CmVgiN   \n",
       "86               They’re all Todd Akin now: How the Planned Parenthood sting backfired on Republicans #GOPDebate #StandwithPP \\nhttp://t.co/ekXPfKtHQn   \n",
       "97                                                  RT @zellieimani: What people saw in person vs what we saw on tv. #GOPDebate http://t.co/QlGsXRH5Hw   \n",
       "98        RT @TheBaxterBean: Marco Rubio Told To His Face He's 'Candidate Of Yesterday' For His Anti-Gay Bigotry http://t.co/a4EiuETTLf #GOPDebate ht…   \n",
       "111       RT @SnarkyDemo: What did the #GOPDebate teach us about a future President Trump?  America probably won’t be safe, except if we’re attacked …   \n",
       "119                                   RT @palmaceiahome1: Caller on the Rush Limbaugh show:\"I have lost all respect for Fox News.\" #FoxNews #GOPDebate   \n",
       "120                         RT @realDonaldTrump: \"@stinger_inc: @realDonaldTrump  @megynkelly's behaviour at the #GOPDebate was astonishingly biased.\"   \n",
       "125  RT @AmyMek: We all owe @realDonaldTrump a huge thank you 4 exposing to the world👉@megynkelly, Chris Wallace, &amp; @FrankLuntz are true Rhinos!…   \n",
       "129                   RT @FrankConniff: Fox News #GOPDebate interviewer to candidates: \"What's your take on these GOP talking points I'm feeding you?\"   \n",
       "136                                                             RT @edstetzer: Btw... when you mix politics and religion, you get politics. #GOPDebate   \n",
       "142   Trump gloating abt buying GOP+Dem pols &amp;them doing his bidding IS my 2000s Billionaire caricature MyaCash #GOPDebate https://t.co/5spmU3csIc   \n",
       "144                                                                              RT @Daenerys: Listening to the #GOPDebate like http://t.co/3JrCuQdAFu   \n",
       "..                                                                                                                                                 ...   \n",
       "360                                  I won't defend @FoxNews, they were FAR from fair OR balanced last night, but name calling is juvenile. #GOPDebate   \n",
       "371       @megynkelly #GOPDebate Kelly is no role model doesn't speak for me or my prof friends Rosie? Now a real woman @CarlyFiorina Kelly is a poser   \n",
       "373   RT @funnyordie: This feels like FOX News tried to be the cool parents that let their kids have a party &amp; now the house is on fire. #GOPDeba…   \n",
       "376       RT @CrissGhoul: YOU ARE NOT PRO LIFE. YOU ARE PRO CONTROL. YOU ARE PRO RELIGION. YOU ARE PRO YOU.  THIS IS NEVER ABOUT THE MOTHER. #GOPDeba…   \n",
       "383          The anti- @CarlyFiorina unit of the #Clinton Personal Destruction Force is now working 24/7, I'm sure. #GOPDebate https://t.co/p0dT5s5TIY   \n",
       "387       RT @NewsWriter2: So we have Americans getting beheaded overseas and @megynkelly is worried whether @realDonaldTrump calls Rosie O'Donnell f…   \n",
       "388               #GOPDebate REAL “AMERICAN IDOL”: ELECTIONS AS AUDITIONS: Whose Consent Counts &amp; How Decisions Are Made... http://t.co/bLeoBY7r7N   \n",
       "393               RT @rachelmartinart: I wonder if the #GOPDebate will address actual solutions for climate change and clean energy. #DebateWithBernie   \n",
       "394       RT @vivigold197: @realDonaldTrump: misogynist, ignorant, xenophobic and greedy: another proof that money does not buy class. #GOPDebate #GO…   \n",
       "403                                                                                                          Keep religion out of politics! #GOPDebate   \n",
       "408                        RT @Ali_Davis: Tonight's #GOPDebate was an important reminder that these guys think of women as carrying cases for fetuses.   \n",
       "419       RT @TheBaxterBean: Fact-Checkers Proved Scott Walker Literally Lies More Often Than He Tells The Truth http://t.co/KeOeBNRWGU #GOPDebate ht…   \n",
       "422       RT @BRios82: These clowns didn't even tackle Climate change. They didn't mention Inequality at all. Are you surprised? #GOPDebate http://t.…   \n",
       "423                                 RT @pattonoswalt: Are they going to ask Lenny Kravitz's penis ONE question? This is very disrespectful. #GOPDebate   \n",
       "430            RT @rebleber: Not mentioned in the #GOPdebate:\\nVoting rights\\nClimate change\\nGun violence\\nPolice shootings\\nStudent debt\\nInequality   \n",
       "437       Favorite Jeb line \"taking on the teacher's unions, and beating them\" sure that empowers kids disenfranchise the ones who teach em #GOPDebate   \n",
       "452             Chris Christie fundamentally misunderstands the 4th amendment &amp; got owned by @RandPaul over NSA: http://t.co/XawzzRHVFi #GOPDebate   \n",
       "453           RT @cmclymer: Fun Fact: in this party of super patriots, not a single candidate on stage has served a day in the military.\\n\\n#GOPDebate   \n",
       "463        RT @HRC: .@JohnKasich said he’d love his daughters if they were gay, but his voting record says otherwise #GOPDebate http://t.co/qWNQMbLZ5d   \n",
       "471                                   RT @MilesOrionFeld: \"Are you not entertained?!?!?!\" Then #Trump throws a severed head into the crowd. #GOPDebate   \n",
       "473           RT @ThatChrisGore: I'm not really sure about President, but Ted Cruz would make an excellent Marvel villain. #GOPDebate #TedCruz #Marvel   \n",
       "474       RT @zellieimani: During debates on terrorism, don't expect anyone to bring up white supremacist organizations engaging in terrorism. #KKKor…   \n",
       "475   @TheDailyShow Jon Stewart can feel comfortable w/retirement as #GOPDebate solved all problems(personal &amp; scientific) https://t.co/voVjmTwu5J   \n",
       "481                                              #GOPDebate so which presidential candidate stuck their thing into the presidential electric sharpener   \n",
       "488     Jeb Bush: \"I defunded Planned Parenthood\"\\n\\n....he is proud that he denied thousands of women access to life saving healthcare...\\n#GOPDebate   \n",
       "492       RT @pattonoswalt: \"That concludes our debate! Please welcome the Koch Brothers who will choose an ideological broodmare from our whore-stab…   \n",
       "499         RT @amaraconda: I SWEAR TO GOD IF ANOTHER CIS WHITE MAN SPEAKS ON ABORTION LIKE THEY KNOW WHAT ITS LIKE BEING PREGNANT......... #GOPDebate   \n",
       "504                        RT @ethicistforhire: Ten rich narcissists spouting nihilistic applause lines is not a debate. It is a Zeitgeist… #GOPDebate   \n",
       "511              Why is God &amp; religion important in an election? Religion shouldn't play a part in the decision making in your country. #GOPDebate   \n",
       "513                        RT @goddessjaz: The discussion of racist police violence was over before I finished typing that tweet. #GOPdebate #KKKorGOP   \n",
       "\n",
       "    K_sentiment b_sentiment nb_sentiment  \n",
       "6      Negative    Positive     Positive  \n",
       "12     Negative    Positive     Positive  \n",
       "16     Negative     Neutral     Positive  \n",
       "19     Negative     Neutral     Positive  \n",
       "24     Negative    Positive     Positive  \n",
       "29     Negative    Positive     Positive  \n",
       "35     Negative    Positive     Positive  \n",
       "38     Negative    Positive     Positive  \n",
       "40     Negative     Neutral     Positive  \n",
       "41     Negative     Neutral      Neutral  \n",
       "54     Negative    Positive     Positive  \n",
       "57     Negative     Neutral     Positive  \n",
       "58     Negative     Neutral     Positive  \n",
       "60     Negative     Neutral     Positive  \n",
       "70     Negative    Positive     Positive  \n",
       "71     Negative    Positive     Positive  \n",
       "74     Negative     Neutral      Neutral  \n",
       "76     Negative    Positive     Positive  \n",
       "77     Negative     Neutral      Neutral  \n",
       "86     Negative     Neutral      Neutral  \n",
       "97     Negative     Neutral      Neutral  \n",
       "98     Negative     Neutral     Positive  \n",
       "111    Negative    Positive     Positive  \n",
       "119    Negative     Neutral     Positive  \n",
       "120    Negative    Positive     Positive  \n",
       "125    Negative    Positive     Positive  \n",
       "129    Negative     Neutral     Positive  \n",
       "136    Negative     Neutral     Positive  \n",
       "142    Negative     Neutral     Positive  \n",
       "144    Negative     Neutral     Positive  \n",
       "..          ...         ...          ...  \n",
       "360    Negative    Positive     Positive  \n",
       "371    Negative    Positive     Positive  \n",
       "373    Negative    Positive      Neutral  \n",
       "376    Negative     Neutral     Positive  \n",
       "383    Negative    Positive     Positive  \n",
       "387    Negative     Neutral      Neutral  \n",
       "388    Negative     Neutral     Positive  \n",
       "393    Negative    Positive     Positive  \n",
       "394    Negative     Neutral     Positive  \n",
       "403    Negative     Neutral     Positive  \n",
       "408    Negative    Positive     Positive  \n",
       "419    Negative    Positive     Positive  \n",
       "422    Negative    Positive     Positive  \n",
       "423    Negative    Positive      Neutral  \n",
       "430    Negative     Neutral     Positive  \n",
       "437    Negative    Positive     Positive  \n",
       "452    Negative     Neutral     Positive  \n",
       "453    Negative    Positive     Positive  \n",
       "463    Negative    Positive      Neutral  \n",
       "471    Negative     Neutral      Neutral  \n",
       "473    Negative    Positive     Positive  \n",
       "474    Negative    Positive     Positive  \n",
       "475    Negative    Positive     Positive  \n",
       "481    Negative     Neutral     Positive  \n",
       "488    Negative    Positive     Positive  \n",
       "492    Negative    Positive     Positive  \n",
       "499    Negative    Positive      Neutral  \n",
       "504    Negative    Positive     Positive  \n",
       "511    Negative    Positive     Positive  \n",
       "513    Negative     Neutral     Positive  \n",
       "\n",
       "[100 rows x 5 columns]"
      ]
     },
     "execution_count": 501,
     "metadata": {},
     "output_type": "execute_result"
    }
   ],
   "source": [
    "# Look at some tweets where Kaggle and default sentiment analyzer disagree.\n",
    "df_KvsD = df[df['K_sentiment']!=df['b_sentiment']]\n",
    "#print df_KvsD.shape\n",
    "#df_KvsD[['ascii', 'K_sentiment', 'b_sentiment']].head(100)\n",
    "\n",
    "# Look at some tweets where Kaggle and NaiveBayes sentiment analyzer disagree.\n",
    "df_KvsNB = df[df['K_sentiment']!=df['nb_sentiment']]\n",
    "#print df_KvsNB.shape\n",
    "#df_KvsNB[['ascii', 'K_sentiment', 'nb_sentiment']].head(100)\n",
    "\n",
    "# Look at some tweets where ...\n",
    "#df[ ((df['K_sentiment']=='Positive') & (df['nb_sentiment']=='Positive')) ][['ascii', 'K_sentiment', 'b_sentiment', 'nb_sentiment']].head(100)\n",
    "#df[ ((df['b_sentiment']==df['nb_sentiment'])) ][['ascii', 'text', 'K_sentiment', 'b_sentiment', 'nb_sentiment']].head(100)\n",
    "df[ ((df['K_sentiment']=='Negative') & (df['b_sentiment']!='Negative') & (df['nb_sentiment']!='Negative')) ][['ascii', 'text', 'K_sentiment', 'b_sentiment', 'nb_sentiment']].head(100)\n"
   ]
  },
  {
   "cell_type": "code",
   "execution_count": null,
   "metadata": {
    "collapsed": true
   },
   "outputs": [],
   "source": []
  },
  {
   "cell_type": "code",
   "execution_count": null,
   "metadata": {
    "collapsed": true
   },
   "outputs": [],
   "source": [
    "\n",
    "\n",
    "\n",
    "\n"
   ]
  },
  {
   "cell_type": "code",
   "execution_count": null,
   "metadata": {
    "collapsed": true
   },
   "outputs": [],
   "source": []
  },
  {
   "cell_type": "code",
   "execution_count": null,
   "metadata": {
    "collapsed": true
   },
   "outputs": [],
   "source": []
  },
  {
   "cell_type": "code",
   "execution_count": null,
   "metadata": {
    "collapsed": true
   },
   "outputs": [],
   "source": []
  },
  {
   "cell_type": "code",
   "execution_count": null,
   "metadata": {
    "collapsed": true
   },
   "outputs": [],
   "source": [
    "### DO NOT USE BELOW THIS POINT ###"
   ]
  },
  {
   "cell_type": "code",
   "execution_count": 81,
   "metadata": {
    "collapsed": false
   },
   "outputs": [
    {
     "name": "stdout",
     "output_type": "stream",
     "text": [
      "RT ScottWalker: Didnt catch the full GOPdebate last night. Here are some of Scotts best lines in 90 seconds. Walker16 http://t.co/ZSfF\n",
      "<type 'str'>\n",
      "<class 'textblob.blob.TextBlob'>\n"
     ]
    },
    {
     "data": {
      "text/plain": [
       "Sentiment(polarity=0.45, subjectivity=0.3055555555555556)"
      ]
     },
     "execution_count": 81,
     "metadata": {},
     "output_type": "execute_result"
    }
   ],
   "source": [
    "print df['text'].ix[1]\n",
    "t = df['text'].ix[1]\n",
    "print type(t)\n",
    "bt = TextBlob(t)\n",
    "print type(bt)\n",
    "bt.sentiment\n"
   ]
  },
  {
   "cell_type": "code",
   "execution_count": 77,
   "metadata": {
    "collapsed": false
   },
   "outputs": [
    {
     "data": {
      "text/plain": [
       "Sentiment(polarity=-1.0, subjectivity=1.0)"
      ]
     },
     "execution_count": 77,
     "metadata": {},
     "output_type": "execute_result"
    }
   ],
   "source": [
    "testimonial = TextBlob(\"Textblob is terrible.\")\n",
    "testimonial.sentiment"
   ]
  },
  {
   "cell_type": "code",
   "execution_count": 54,
   "metadata": {
    "collapsed": false
   },
   "outputs": [
    {
     "data": {
      "text/plain": [
       "Sentiment(polarity=0.45, subjectivity=0.3055555555555556)"
      ]
     },
     "execution_count": 54,
     "metadata": {},
     "output_type": "execute_result"
    }
   ],
   "source": [
    "testimonial = TextBlob(\"RT @ScottWalker: Didn't catch the full #GOPdebate last night. Here are some of Scott's best lines in 90 seconds. #Walker16 http:/t.co/ZSfF\")\n",
    "#print testimonial\n",
    "testimonial.sentiment"
   ]
  },
  {
   "cell_type": "code",
   "execution_count": null,
   "metadata": {
    "collapsed": true
   },
   "outputs": [],
   "source": []
  }
 ],
 "metadata": {
  "kernelspec": {
   "display_name": "Python 2",
   "language": "python",
   "name": "python2"
  },
  "language_info": {
   "codemirror_mode": {
    "name": "ipython",
    "version": 2
   },
   "file_extension": ".py",
   "mimetype": "text/x-python",
   "name": "python",
   "nbconvert_exporter": "python",
   "pygments_lexer": "ipython2",
   "version": "2.7.9"
  }
 },
 "nbformat": 4,
 "nbformat_minor": 0
}
