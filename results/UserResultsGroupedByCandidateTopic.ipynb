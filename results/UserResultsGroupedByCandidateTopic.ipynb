{
 "cells": [
  {
   "cell_type": "code",
   "execution_count": 1,
   "metadata": {
    "collapsed": false
   },
   "outputs": [],
   "source": [
    "daily_query=\"\"\"match (u:User_{0})-[:POSTS]->(t:Tweet_{0}) \\\n",
    "where exists(t.mentions_Trump) \\\n",
    "or exists(t.mentions_Clinton) \\\n",
    "or exists(t.mentions_Sanders) \\\n",
    "or exists(t.mentions_Cruz) \\\n",
    "or exists(t.mentions_Rubio) \\\n",
    "or exists(t.topic) \\\n",
    "WITH \"{0}\" as day, u.screen_name as username, t.mentions_Trump as Trump, t.mentions_Clinton as Clinton, \\\n",
    "t.mentions_Sanders as Sanders, t.mentions_Cruz as Cruz, t.mentions_Rubio as Rubio, t.topic as topic, \\\n",
    "count(t) as frequency \\\n",
    "RETURN day, username, Trump, Clinton, Sanders, Cruz, Rubio, topic, frequency \\\n",
    "order by day asc, username, frequency desc\"\"\"\n",
    "\n",
    "user_header=['day', 'user', 'supports' 'Trump','Clinton','Sanders','Cruz','Rubio','topic','frequency']"
   ]
  },
  {
   "cell_type": "code",
   "execution_count": 2,
   "metadata": {
    "collapsed": true
   },
   "outputs": [],
   "source": [
    "partitions = ['2015_10_11', '2015_10_12', '2015_10_13', '2015_10_14', '2015_10_15',\\\n",
    "              '2016_1_26', '2016_1_27', '2016_1_28', '2016_1_29', '2016_1_30', '2016_2_2', '2016_2_3', \\\n",
    "              '2016_2_4', '2016_2_5', '2016_2_6', '2016_2_7', '2016_2_8', '2016_2_9', '2016_2_10',\\\n",
    "              '2016_2_11', '2016_2_12', '2016_2_13', '2016_2_14', '2016_2_15', \\\n",
    "              '2016_2_23', '2016_2_24', '2016_2_25', '2016_2_26', '2016_2_27', \\\n",
    "              '2016_3_1', '2016_3_2','2016_3_3', '2016_3_4', '2016_3_5', '2016_3_6', '2016_3_7', \\\n",
    "              '2016_3_8', '2016_3_9', '2016_3_10', '2016_3_11']\n"
   ]
  },
  {
   "cell_type": "code",
   "execution_count": 3,
   "metadata": {
    "collapsed": false
   },
   "outputs": [],
   "source": [
    "\n",
    "#set up logging\n",
    "logger = logging.getLogger('UserResultsGroupedByCandidateTopic')\n",
    "hdlr = logging.FileHandler('./user_results_remote.log')\n",
    "formatter = logging.Formatter('%(asctime)s %(levelname)s %(message)s')\n",
    "hdlr.setFormatter(formatter)\n",
    "logger.addHandler(hdlr) \n",
    "logger.setLevel(logging.INFO)\n",
    "        "
   ]
  },
  {
   "cell_type": "code",
   "execution_count": null,
   "metadata": {
    "collapsed": false
   },
   "outputs": [],
   "source": []
  },
  {
   "cell_type": "code",
   "execution_count": 4,
   "metadata": {
    "collapsed": false
   },
   "outputs": [
    {
     "name": "stdout",
     "output_type": "stream",
     "text": [
      "2015_10_11 3.23056697845 28273\n",
      "2015_10_12 49.6191000938 307315\n",
      "2015_10_13 75.3384001255 677483\n",
      "2015_10_14 150.32089901 1542499\n",
      "2015_10_15 13.2918889523 1637557\n",
      "2016_1_26 184.329207897 2290487\n",
      "2016_1_27 80.2932589054 2917060\n",
      "2016_1_28 80.0034711361 3411450\n",
      "2016_1_29 203.162105083 4040148\n",
      "2016_1_30 73.6138970852 4437150\n",
      "2016_2_2 122.505506039 5539748\n",
      "2016_2_3 116.717420816 6120606\n",
      "2016_2_4 143.415338039 6668643\n",
      "2016_2_5 148.466931105 7221482\n",
      "2016_2_6 118.636186123 7603201\n",
      "2016_2_7 128.264627934 8217531\n",
      "2016_2_8 63.4797611237 8619053\n",
      "2016_2_9 73.4079880714 8930879\n",
      "2016_2_10 211.548989058 9674699\n",
      "2016_2_11 89.1528251171 10105828\n",
      "2016_2_12 96.6073479652 10649356\n",
      "2016_2_13 133.594691038 10990912\n",
      "2016_2_14 166.461673021 11495185\n",
      "2016_2_15 103.713423967 11802723\n",
      "2016_2_23 115.545479059 12298305\n",
      "2016_2_24 113.117329121 12988575\n",
      "2016_2_25 209.541116953 13608202\n",
      "2016_2_26 136.376976967 14400981\n",
      "2016_2_27 151.339128017 14962068\n",
      "2016_3_1 387.882022142 15666841\n",
      "2016_3_2 923.996485949 16754559\n",
      "2016_3_3 501.50671196 17465156\n",
      "2016_3_4 356.211359024 18254628\n",
      "2016_3_5 286.192780018 18755157\n",
      "2016_3_6 288.906780005 19326740\n",
      "2016_3_7 186.49374485 19737311\n",
      "2016_3_8 115.856276989 20176172\n",
      "2016_3_9 151.209341049 20719332\n",
      "2016_3_10 137.996889114 21179722\n",
      "2016_3_11 26.7929029465 21247585\n"
     ]
    }
   ],
   "source": [
    "import time\n",
    "import logging\n",
    "import csv\n",
    "from neo4jreader import neo4j_reader\n",
    "\n",
    "#write daily file\n",
    "def writedaily(record):\n",
    "    \n",
    "    keylist = [record[1],record[2],record[3],record[4],record[5],record[6],record[7]]\n",
    "    value = record[8]\n",
    "            \n",
    "    #some of the neutral items were labeled true instead of neu, correct these.\n",
    "    #TODO: correct these in the database.\n",
    "    for n in [1,2,3,4,5]:\n",
    "        if (\"true\" in str(keylist[n]).lower()):\n",
    "            keylist[n]=\"neu\"\n",
    "            \n",
    "    return tuple(keylist),value\n",
    "\n",
    "\n",
    "\n",
    "reader = neo4j_reader('local',logger)\n",
    "\n",
    "with open('user_results.csv', 'wb') as csvfile:\n",
    "    \n",
    "    csvwriter = csv.writer(csvfile)\n",
    "    csvwriter.writerow(user_header)\n",
    "    \n",
    "    for partition in partitions:\n",
    "    #for partition in ['2015_10_11']:\n",
    "\n",
    "        start = time.time()\n",
    "\n",
    "        formatted_query = daily_query.format(partition)\n",
    "\n",
    "        for record in reader.runquery(formatted_query):\n",
    "            key, value = writedaily(record)\n",
    "\n",
    "            if (key in userdata):\n",
    "                userdata[key] = userdata[key] + value\n",
    "            else:\n",
    "                userdata[key] = value\n",
    "\n",
    "        print partition, time.time() - start, len(userdata)\n",
    "\n",
    "with open('user_results.csv', 'wb') as csvfile:\n",
    "    \n",
    "    csvwriter = csv.writer(csvfile)\n",
    "    csvwriter.writerow(user_header)\n",
    "            \n",
    "    for k,v in userdata.iteritems():\n",
    "        outputrow = list(k)\n",
    "        outputrow.append(v)\n",
    "        csvwriter.writerow(outputrow)"
   ]
  },
  {
   "cell_type": "code",
   "execution_count": null,
   "metadata": {
    "collapsed": false
   },
   "outputs": [],
   "source": []
  },
  {
   "cell_type": "code",
   "execution_count": null,
   "metadata": {
    "collapsed": true
   },
   "outputs": [],
   "source": []
  }
 ],
 "metadata": {
  "kernelspec": {
   "display_name": "Python 2",
   "language": "python",
   "name": "python2"
  },
  "language_info": {
   "codemirror_mode": {
    "name": "ipython",
    "version": 2
   },
   "file_extension": ".py",
   "mimetype": "text/x-python",
   "name": "python",
   "nbconvert_exporter": "python",
   "pygments_lexer": "ipython2",
   "version": "2.7.10"
  }
 },
 "nbformat": 4,
 "nbformat_minor": 0
}
